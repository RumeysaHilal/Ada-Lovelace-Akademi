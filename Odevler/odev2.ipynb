{
 "cells": [
  {
   "cell_type": "markdown",
   "metadata": {},
   "source": []
  },
  {
   "cell_type": "markdown",
   "metadata": {},
   "source": []
  },
  {
   "cell_type": "code",
   "execution_count": null,
   "metadata": {},
   "outputs": [],
   "source": [
    "base_url = \"../data/covid/\"\n",
    "infected_dataset_url = base_url + \"time_series_covid19_confirmed_global.csv\"\n",
    "recovered_dataset_url = base_url + \"time_series_covid19_recovered_global.csv\"\n",
    "deaths_dataset_url = base_url + \"time_series_covid19_deaths_global.csv\""
   ]
  }
 ],
 "metadata": {
  "language_info": {
   "name": "python"
  }
 },
 "nbformat": 4,
 "nbformat_minor": 2
}
