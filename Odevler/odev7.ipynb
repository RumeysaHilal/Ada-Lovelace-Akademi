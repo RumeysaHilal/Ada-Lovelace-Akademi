{
 "cells": [
  {
   "cell_type": "markdown",
   "metadata": {},
   "source": [
    "### Exercise 7\n",
    "\n",
    "| Feature             | Type       | Description                                       |\n",
    "|---------------------|------------|---------------------------------------------------|\n",
    "| num-of-cylinders    | Integer    | Number of cylinders in the engine.                |\n",
    "| engine-type         | Categorical| Type of engine.                                  |\n",
    "| curb-weight         | Continuous | Curb weight of the vehicle.                      |\n",
    "| height              | Continuous | Height of the vehicle.                           |\n",
    "| width               | Continuous | Width of the vehicle.                            |\n",
    "| length              | Continuous | Length of the vehicle.                           |\n",
    "| wheel-base          | Continuous | Wheelbase of the vehicle.                        |\n",
    "| engine-location     | Binary     | Location of the engine in the vehicle.          |\n",
    "| drive-wheels        | Categorical| Wheel drive type of the vehicle.                 |\n",
    "| body-style          | Categorical| Body style of the vehicle.                       |\n",
    "| price               | Continuous | Price of the vehicle.                            |\n",
    "| highway-mpg         | Continuous | Highway miles per gallon (MPG) of the vehicle.  |\n",
    "| city-mpg            | Continuous | City miles per gallon (MPG) of the vehicle.     |\n",
    "| peak-rpm            | Continuous | Peak RPM of the engine.                          |\n",
    "| horsepower         | Continuous | Horsepower of the engine.                        |\n",
    "| compression-ratio  | Continuous | Compression ratio of the engine.                 |\n",
    "| stroke              | Continuous | Stroke length of the engine.                    |\n",
    "| bore                | Continuous | Bore size of the engine.                        |\n",
    "| fuel-system         | Categorical| Type of fuel system.                            |\n",
    "| engine-size         | Continuous | Size of the engine.                             |\n",
    "| num-of-doors        | Integer    | Number of doors in the vehicle.                 |\n",
    "| aspiration          | Binary     | Whether the engine is turbocharged or not.     |\n",
    "| fuel-type           | Binary     | Fuel type of the vehicle.                       |\n",
    "| make                | Categorical| Make (brand) of the vehicle.                    |\n",
    "| normalized-losses  | Continuous | Normalized losses of the vehicle.               |\n",
    "| symboling           | Integer    | Symbolic value for the vehicle.                 |\n"
   ]
  },
  {
   "cell_type": "code",
   "execution_count": 240,
   "metadata": {},
   "outputs": [],
   "source": [
    "from ucimlrepo import fetch_ucirepo\n",
    "import pandas as pd\n",
    "import numpy as np\n",
    "import matplotlib.pyplot as plt\n",
    "import seaborn as sns\n",
    "from sklearn.model_selection import train_test_split\n",
    "from sklearn.neighbors import KNeighborsClassifier\n",
    "from sklearn.metrics import accuracy_score\n",
    "from sklearn.preprocessing import LabelEncoder\n",
    "from sklearn import preprocessing\n",
    "from sklearn import metrics\n",
    "from sklearn.metrics import jaccard_score\n",
    "from sklearn.metrics import log_loss\n",
    "from sklearn.metrics import f1_score"
   ]
  },
  {
   "cell_type": "code",
   "execution_count": 242,
   "metadata": {},
   "outputs": [],
   "source": [
    "# fetch dataset\n",
    "automobile = fetch_ucirepo(id=10)"
   ]
  },
  {
   "cell_type": "code",
   "execution_count": 243,
   "metadata": {},
   "outputs": [],
   "source": [
    "# Veri setini pandas DataFrame olarak alma\n",
    "x = automobile.data.features\n",
    "y = automobile.data.targets"
   ]
  },
  {
   "cell_type": "code",
   "execution_count": 244,
   "metadata": {},
   "outputs": [
    {
     "data": {
      "text/html": [
       "<div>\n",
       "<style scoped>\n",
       "    .dataframe tbody tr th:only-of-type {\n",
       "        vertical-align: middle;\n",
       "    }\n",
       "\n",
       "    .dataframe tbody tr th {\n",
       "        vertical-align: top;\n",
       "    }\n",
       "\n",
       "    .dataframe thead th {\n",
       "        text-align: right;\n",
       "    }\n",
       "</style>\n",
       "<table border=\"1\" class=\"dataframe\">\n",
       "  <thead>\n",
       "    <tr style=\"text-align: right;\">\n",
       "      <th></th>\n",
       "      <th>symboling</th>\n",
       "    </tr>\n",
       "  </thead>\n",
       "  <tbody>\n",
       "    <tr>\n",
       "      <th>0</th>\n",
       "      <td>3</td>\n",
       "    </tr>\n",
       "    <tr>\n",
       "      <th>1</th>\n",
       "      <td>3</td>\n",
       "    </tr>\n",
       "    <tr>\n",
       "      <th>2</th>\n",
       "      <td>1</td>\n",
       "    </tr>\n",
       "    <tr>\n",
       "      <th>3</th>\n",
       "      <td>2</td>\n",
       "    </tr>\n",
       "    <tr>\n",
       "      <th>4</th>\n",
       "      <td>2</td>\n",
       "    </tr>\n",
       "  </tbody>\n",
       "</table>\n",
       "</div>"
      ],
      "text/plain": [
       "   symboling\n",
       "0          3\n",
       "1          3\n",
       "2          1\n",
       "3          2\n",
       "4          2"
      ]
     },
     "execution_count": 244,
     "metadata": {},
     "output_type": "execute_result"
    }
   ],
   "source": [
    "y.head()"
   ]
  },
  {
   "cell_type": "code",
   "execution_count": 245,
   "metadata": {},
   "outputs": [
    {
     "data": {
      "text/html": [
       "<div>\n",
       "<style scoped>\n",
       "    .dataframe tbody tr th:only-of-type {\n",
       "        vertical-align: middle;\n",
       "    }\n",
       "\n",
       "    .dataframe tbody tr th {\n",
       "        vertical-align: top;\n",
       "    }\n",
       "\n",
       "    .dataframe thead th {\n",
       "        text-align: right;\n",
       "    }\n",
       "</style>\n",
       "<table border=\"1\" class=\"dataframe\">\n",
       "  <thead>\n",
       "    <tr style=\"text-align: right;\">\n",
       "      <th></th>\n",
       "      <th>price</th>\n",
       "      <th>highway-mpg</th>\n",
       "      <th>city-mpg</th>\n",
       "      <th>peak-rpm</th>\n",
       "      <th>horsepower</th>\n",
       "      <th>compression-ratio</th>\n",
       "      <th>stroke</th>\n",
       "      <th>bore</th>\n",
       "      <th>fuel-system</th>\n",
       "      <th>engine-size</th>\n",
       "      <th>...</th>\n",
       "      <th>length</th>\n",
       "      <th>wheel-base</th>\n",
       "      <th>engine-location</th>\n",
       "      <th>drive-wheels</th>\n",
       "      <th>body-style</th>\n",
       "      <th>num-of-doors</th>\n",
       "      <th>aspiration</th>\n",
       "      <th>fuel-type</th>\n",
       "      <th>make</th>\n",
       "      <th>normalized-losses</th>\n",
       "    </tr>\n",
       "  </thead>\n",
       "  <tbody>\n",
       "    <tr>\n",
       "      <th>0</th>\n",
       "      <td>13495.0</td>\n",
       "      <td>27</td>\n",
       "      <td>21</td>\n",
       "      <td>5000.0</td>\n",
       "      <td>111.0</td>\n",
       "      <td>9.0</td>\n",
       "      <td>2.68</td>\n",
       "      <td>3.47</td>\n",
       "      <td>mpfi</td>\n",
       "      <td>130</td>\n",
       "      <td>...</td>\n",
       "      <td>168.8</td>\n",
       "      <td>88.6</td>\n",
       "      <td>front</td>\n",
       "      <td>rwd</td>\n",
       "      <td>convertible</td>\n",
       "      <td>2.0</td>\n",
       "      <td>std</td>\n",
       "      <td>gas</td>\n",
       "      <td>alfa-romero</td>\n",
       "      <td>NaN</td>\n",
       "    </tr>\n",
       "    <tr>\n",
       "      <th>1</th>\n",
       "      <td>16500.0</td>\n",
       "      <td>27</td>\n",
       "      <td>21</td>\n",
       "      <td>5000.0</td>\n",
       "      <td>111.0</td>\n",
       "      <td>9.0</td>\n",
       "      <td>2.68</td>\n",
       "      <td>3.47</td>\n",
       "      <td>mpfi</td>\n",
       "      <td>130</td>\n",
       "      <td>...</td>\n",
       "      <td>168.8</td>\n",
       "      <td>88.6</td>\n",
       "      <td>front</td>\n",
       "      <td>rwd</td>\n",
       "      <td>convertible</td>\n",
       "      <td>2.0</td>\n",
       "      <td>std</td>\n",
       "      <td>gas</td>\n",
       "      <td>alfa-romero</td>\n",
       "      <td>NaN</td>\n",
       "    </tr>\n",
       "    <tr>\n",
       "      <th>2</th>\n",
       "      <td>16500.0</td>\n",
       "      <td>26</td>\n",
       "      <td>19</td>\n",
       "      <td>5000.0</td>\n",
       "      <td>154.0</td>\n",
       "      <td>9.0</td>\n",
       "      <td>3.47</td>\n",
       "      <td>2.68</td>\n",
       "      <td>mpfi</td>\n",
       "      <td>152</td>\n",
       "      <td>...</td>\n",
       "      <td>171.2</td>\n",
       "      <td>94.5</td>\n",
       "      <td>front</td>\n",
       "      <td>rwd</td>\n",
       "      <td>hatchback</td>\n",
       "      <td>2.0</td>\n",
       "      <td>std</td>\n",
       "      <td>gas</td>\n",
       "      <td>alfa-romero</td>\n",
       "      <td>NaN</td>\n",
       "    </tr>\n",
       "    <tr>\n",
       "      <th>3</th>\n",
       "      <td>13950.0</td>\n",
       "      <td>30</td>\n",
       "      <td>24</td>\n",
       "      <td>5500.0</td>\n",
       "      <td>102.0</td>\n",
       "      <td>10.0</td>\n",
       "      <td>3.40</td>\n",
       "      <td>3.19</td>\n",
       "      <td>mpfi</td>\n",
       "      <td>109</td>\n",
       "      <td>...</td>\n",
       "      <td>176.6</td>\n",
       "      <td>99.8</td>\n",
       "      <td>front</td>\n",
       "      <td>fwd</td>\n",
       "      <td>sedan</td>\n",
       "      <td>4.0</td>\n",
       "      <td>std</td>\n",
       "      <td>gas</td>\n",
       "      <td>audi</td>\n",
       "      <td>164.0</td>\n",
       "    </tr>\n",
       "    <tr>\n",
       "      <th>4</th>\n",
       "      <td>17450.0</td>\n",
       "      <td>22</td>\n",
       "      <td>18</td>\n",
       "      <td>5500.0</td>\n",
       "      <td>115.0</td>\n",
       "      <td>8.0</td>\n",
       "      <td>3.40</td>\n",
       "      <td>3.19</td>\n",
       "      <td>mpfi</td>\n",
       "      <td>136</td>\n",
       "      <td>...</td>\n",
       "      <td>176.6</td>\n",
       "      <td>99.4</td>\n",
       "      <td>front</td>\n",
       "      <td>4wd</td>\n",
       "      <td>sedan</td>\n",
       "      <td>4.0</td>\n",
       "      <td>std</td>\n",
       "      <td>gas</td>\n",
       "      <td>audi</td>\n",
       "      <td>164.0</td>\n",
       "    </tr>\n",
       "  </tbody>\n",
       "</table>\n",
       "<p>5 rows × 25 columns</p>\n",
       "</div>"
      ],
      "text/plain": [
       "     price  highway-mpg  city-mpg  peak-rpm  horsepower  compression-ratio  \\\n",
       "0  13495.0           27        21    5000.0       111.0                9.0   \n",
       "1  16500.0           27        21    5000.0       111.0                9.0   \n",
       "2  16500.0           26        19    5000.0       154.0                9.0   \n",
       "3  13950.0           30        24    5500.0       102.0               10.0   \n",
       "4  17450.0           22        18    5500.0       115.0                8.0   \n",
       "\n",
       "   stroke  bore fuel-system  engine-size  ...  length wheel-base  \\\n",
       "0    2.68  3.47        mpfi          130  ...   168.8       88.6   \n",
       "1    2.68  3.47        mpfi          130  ...   168.8       88.6   \n",
       "2    3.47  2.68        mpfi          152  ...   171.2       94.5   \n",
       "3    3.40  3.19        mpfi          109  ...   176.6       99.8   \n",
       "4    3.40  3.19        mpfi          136  ...   176.6       99.4   \n",
       "\n",
       "   engine-location  drive-wheels   body-style  num-of-doors  aspiration  \\\n",
       "0            front           rwd  convertible           2.0         std   \n",
       "1            front           rwd  convertible           2.0         std   \n",
       "2            front           rwd    hatchback           2.0         std   \n",
       "3            front           fwd        sedan           4.0         std   \n",
       "4            front           4wd        sedan           4.0         std   \n",
       "\n",
       "  fuel-type         make normalized-losses  \n",
       "0       gas  alfa-romero               NaN  \n",
       "1       gas  alfa-romero               NaN  \n",
       "2       gas  alfa-romero               NaN  \n",
       "3       gas         audi             164.0  \n",
       "4       gas         audi             164.0  \n",
       "\n",
       "[5 rows x 25 columns]"
      ]
     },
     "execution_count": 245,
     "metadata": {},
     "output_type": "execute_result"
    }
   ],
   "source": [
    "x = pd.DataFrame(x)\n",
    "x.head()"
   ]
  },
  {
   "cell_type": "code",
   "execution_count": 246,
   "metadata": {},
   "outputs": [
    {
     "data": {
      "text/plain": [
       "(205, 25)"
      ]
     },
     "execution_count": 246,
     "metadata": {},
     "output_type": "execute_result"
    }
   ],
   "source": [
    "x.shape"
   ]
  },
  {
   "cell_type": "code",
   "execution_count": 247,
   "metadata": {},
   "outputs": [
    {
     "data": {
      "text/plain": [
       "symboling\n",
       " 0           67\n",
       " 1           54\n",
       " 2           32\n",
       " 3           27\n",
       "-1           22\n",
       "-2            3\n",
       "dtype: int64"
      ]
     },
     "execution_count": 247,
     "metadata": {},
     "output_type": "execute_result"
    }
   ],
   "source": [
    "y.value_counts()"
   ]
  },
  {
   "cell_type": "markdown",
   "metadata": {},
   "source": [
    "## Preprocessing"
   ]
  },
  {
   "cell_type": "code",
   "execution_count": 248,
   "metadata": {},
   "outputs": [
    {
     "data": {
      "text/plain": [
       "price                 4\n",
       "highway-mpg           0\n",
       "city-mpg              0\n",
       "peak-rpm              2\n",
       "horsepower            2\n",
       "compression-ratio     0\n",
       "stroke                4\n",
       "bore                  4\n",
       "fuel-system           0\n",
       "engine-size           0\n",
       "num-of-cylinders      0\n",
       "engine-type           0\n",
       "curb-weight           0\n",
       "height                0\n",
       "width                 0\n",
       "length                0\n",
       "wheel-base            0\n",
       "engine-location       0\n",
       "drive-wheels          0\n",
       "body-style            0\n",
       "num-of-doors          2\n",
       "aspiration            0\n",
       "fuel-type             0\n",
       "make                  0\n",
       "normalized-losses    41\n",
       "dtype: int64"
      ]
     },
     "execution_count": 248,
     "metadata": {},
     "output_type": "execute_result"
    }
   ],
   "source": [
    "x.isna().sum()"
   ]
  },
  {
   "cell_type": "code",
   "execution_count": 249,
   "metadata": {},
   "outputs": [
    {
     "data": {
      "text/plain": [
       "Index(['price', 'peak-rpm', 'horsepower', 'stroke', 'bore', 'num-of-doors',\n",
       "       'normalized-losses'],\n",
       "      dtype='object')"
      ]
     },
     "execution_count": 249,
     "metadata": {},
     "output_type": "execute_result"
    }
   ],
   "source": [
    "# only names of columns with null values\n",
    "x.columns[x.isnull().any()]"
   ]
  },
  {
   "cell_type": "code",
   "execution_count": 250,
   "metadata": {},
   "outputs": [
    {
     "data": {
      "text/plain": [
       "4.0    114\n",
       "2.0     89\n",
       "Name: num-of-doors, dtype: int64"
      ]
     },
     "execution_count": 250,
     "metadata": {},
     "output_type": "execute_result"
    }
   ],
   "source": [
    "x[\"num-of-doors\"].value_counts()"
   ]
  },
  {
   "cell_type": "code",
   "execution_count": 251,
   "metadata": {},
   "outputs": [],
   "source": [
    "# Null values in each feature column of the data frame have been filled with their respective mean values.\n",
    "# This block for continuous data\n",
    "numeric_columns = ['price', 'peak-rpm', 'horsepower', 'stroke', 'bore', 'normalized-losses']\n",
    "\n",
    "for column in numeric_columns:\n",
    "    if x[column].isnull().any():\n",
    "        x.loc[x[column].isnull(), column] = x[column].mean()"
   ]
  },
  {
   "cell_type": "code",
   "execution_count": 252,
   "metadata": {},
   "outputs": [],
   "source": [
    "# this block for integer categorical data\n",
    "# Fill null values in the 'num-of-doors' column with the most frequent value (mode)\n",
    "x.loc[x['num-of-doors'].isnull(), 'num-of-doors'] = x['num-of-doors'].mode()[0]"
   ]
  },
  {
   "cell_type": "code",
   "execution_count": 253,
   "metadata": {},
   "outputs": [
    {
     "data": {
      "text/plain": [
       "Index([], dtype='object')"
      ]
     },
     "execution_count": 253,
     "metadata": {},
     "output_type": "execute_result"
    }
   ],
   "source": [
    "# control\n",
    "x.columns[x.isnull().any()]"
   ]
  },
  {
   "cell_type": "code",
   "execution_count": 254,
   "metadata": {},
   "outputs": [
    {
     "name": "stdout",
     "output_type": "stream",
     "text": [
      "Non numeric columns :  Index(['fuel-system', 'engine-type', 'engine-location', 'drive-wheels',\n",
      "       'body-style', 'aspiration', 'fuel-type', 'make'],\n",
      "      dtype='object')\n"
     ]
    }
   ],
   "source": [
    "non_numeric_columns = x.select_dtypes(exclude=np.number).columns\n",
    "print(\"Non numeric columns : \", non_numeric_columns)"
   ]
  },
  {
   "cell_type": "code",
   "execution_count": 255,
   "metadata": {},
   "outputs": [
    {
     "name": "stderr",
     "output_type": "stream",
     "text": [
      "C:\\Users\\Excalibur\\AppData\\Local\\Temp\\ipykernel_31324\\1943040179.py:5: DeprecationWarning: In a future version, `df.iloc[:, i] = newvals` will attempt to set the values inplace instead of always setting a new array. To retain the old behavior, use either `df[df.columns[i]] = newvals` or, if columns are non-unique, `df.isetitem(i, newvals)`\n",
      "  x.loc[:,column] = label_encoder.fit_transform(x[column])\n",
      "C:\\Users\\Excalibur\\AppData\\Local\\Temp\\ipykernel_31324\\1943040179.py:5: DeprecationWarning: In a future version, `df.iloc[:, i] = newvals` will attempt to set the values inplace instead of always setting a new array. To retain the old behavior, use either `df[df.columns[i]] = newvals` or, if columns are non-unique, `df.isetitem(i, newvals)`\n",
      "  x.loc[:,column] = label_encoder.fit_transform(x[column])\n",
      "C:\\Users\\Excalibur\\AppData\\Local\\Temp\\ipykernel_31324\\1943040179.py:5: DeprecationWarning: In a future version, `df.iloc[:, i] = newvals` will attempt to set the values inplace instead of always setting a new array. To retain the old behavior, use either `df[df.columns[i]] = newvals` or, if columns are non-unique, `df.isetitem(i, newvals)`\n",
      "  x.loc[:,column] = label_encoder.fit_transform(x[column])\n",
      "C:\\Users\\Excalibur\\AppData\\Local\\Temp\\ipykernel_31324\\1943040179.py:5: DeprecationWarning: In a future version, `df.iloc[:, i] = newvals` will attempt to set the values inplace instead of always setting a new array. To retain the old behavior, use either `df[df.columns[i]] = newvals` or, if columns are non-unique, `df.isetitem(i, newvals)`\n",
      "  x.loc[:,column] = label_encoder.fit_transform(x[column])\n",
      "C:\\Users\\Excalibur\\AppData\\Local\\Temp\\ipykernel_31324\\1943040179.py:5: DeprecationWarning: In a future version, `df.iloc[:, i] = newvals` will attempt to set the values inplace instead of always setting a new array. To retain the old behavior, use either `df[df.columns[i]] = newvals` or, if columns are non-unique, `df.isetitem(i, newvals)`\n",
      "  x.loc[:,column] = label_encoder.fit_transform(x[column])\n",
      "C:\\Users\\Excalibur\\AppData\\Local\\Temp\\ipykernel_31324\\1943040179.py:5: DeprecationWarning: In a future version, `df.iloc[:, i] = newvals` will attempt to set the values inplace instead of always setting a new array. To retain the old behavior, use either `df[df.columns[i]] = newvals` or, if columns are non-unique, `df.isetitem(i, newvals)`\n",
      "  x.loc[:,column] = label_encoder.fit_transform(x[column])\n",
      "C:\\Users\\Excalibur\\AppData\\Local\\Temp\\ipykernel_31324\\1943040179.py:5: DeprecationWarning: In a future version, `df.iloc[:, i] = newvals` will attempt to set the values inplace instead of always setting a new array. To retain the old behavior, use either `df[df.columns[i]] = newvals` or, if columns are non-unique, `df.isetitem(i, newvals)`\n",
      "  x.loc[:,column] = label_encoder.fit_transform(x[column])\n",
      "C:\\Users\\Excalibur\\AppData\\Local\\Temp\\ipykernel_31324\\1943040179.py:5: DeprecationWarning: In a future version, `df.iloc[:, i] = newvals` will attempt to set the values inplace instead of always setting a new array. To retain the old behavior, use either `df[df.columns[i]] = newvals` or, if columns are non-unique, `df.isetitem(i, newvals)`\n",
      "  x.loc[:,column] = label_encoder.fit_transform(x[column])\n"
     ]
    }
   ],
   "source": [
    "# Label Encoding\n",
    "label_encoder = LabelEncoder()\n",
    "\n",
    "for column in non_numeric_columns:\n",
    "    x.loc[:,column] = label_encoder.fit_transform(x[column])"
   ]
  },
  {
   "cell_type": "code",
   "execution_count": 256,
   "metadata": {},
   "outputs": [
    {
     "data": {
      "text/html": [
       "<div>\n",
       "<style scoped>\n",
       "    .dataframe tbody tr th:only-of-type {\n",
       "        vertical-align: middle;\n",
       "    }\n",
       "\n",
       "    .dataframe tbody tr th {\n",
       "        vertical-align: top;\n",
       "    }\n",
       "\n",
       "    .dataframe thead th {\n",
       "        text-align: right;\n",
       "    }\n",
       "</style>\n",
       "<table border=\"1\" class=\"dataframe\">\n",
       "  <thead>\n",
       "    <tr style=\"text-align: right;\">\n",
       "      <th></th>\n",
       "      <th>price</th>\n",
       "      <th>highway-mpg</th>\n",
       "      <th>city-mpg</th>\n",
       "      <th>peak-rpm</th>\n",
       "      <th>horsepower</th>\n",
       "      <th>compression-ratio</th>\n",
       "      <th>stroke</th>\n",
       "      <th>bore</th>\n",
       "      <th>fuel-system</th>\n",
       "      <th>engine-size</th>\n",
       "      <th>...</th>\n",
       "      <th>length</th>\n",
       "      <th>wheel-base</th>\n",
       "      <th>engine-location</th>\n",
       "      <th>drive-wheels</th>\n",
       "      <th>body-style</th>\n",
       "      <th>num-of-doors</th>\n",
       "      <th>aspiration</th>\n",
       "      <th>fuel-type</th>\n",
       "      <th>make</th>\n",
       "      <th>normalized-losses</th>\n",
       "    </tr>\n",
       "  </thead>\n",
       "  <tbody>\n",
       "    <tr>\n",
       "      <th>0</th>\n",
       "      <td>13495.0</td>\n",
       "      <td>27</td>\n",
       "      <td>21</td>\n",
       "      <td>5000.0</td>\n",
       "      <td>111.0</td>\n",
       "      <td>9.0</td>\n",
       "      <td>2.68</td>\n",
       "      <td>3.47</td>\n",
       "      <td>5</td>\n",
       "      <td>130</td>\n",
       "      <td>...</td>\n",
       "      <td>168.8</td>\n",
       "      <td>88.6</td>\n",
       "      <td>0</td>\n",
       "      <td>2</td>\n",
       "      <td>0</td>\n",
       "      <td>2.0</td>\n",
       "      <td>0</td>\n",
       "      <td>1</td>\n",
       "      <td>0</td>\n",
       "      <td>122.0</td>\n",
       "    </tr>\n",
       "    <tr>\n",
       "      <th>1</th>\n",
       "      <td>16500.0</td>\n",
       "      <td>27</td>\n",
       "      <td>21</td>\n",
       "      <td>5000.0</td>\n",
       "      <td>111.0</td>\n",
       "      <td>9.0</td>\n",
       "      <td>2.68</td>\n",
       "      <td>3.47</td>\n",
       "      <td>5</td>\n",
       "      <td>130</td>\n",
       "      <td>...</td>\n",
       "      <td>168.8</td>\n",
       "      <td>88.6</td>\n",
       "      <td>0</td>\n",
       "      <td>2</td>\n",
       "      <td>0</td>\n",
       "      <td>2.0</td>\n",
       "      <td>0</td>\n",
       "      <td>1</td>\n",
       "      <td>0</td>\n",
       "      <td>122.0</td>\n",
       "    </tr>\n",
       "    <tr>\n",
       "      <th>2</th>\n",
       "      <td>16500.0</td>\n",
       "      <td>26</td>\n",
       "      <td>19</td>\n",
       "      <td>5000.0</td>\n",
       "      <td>154.0</td>\n",
       "      <td>9.0</td>\n",
       "      <td>3.47</td>\n",
       "      <td>2.68</td>\n",
       "      <td>5</td>\n",
       "      <td>152</td>\n",
       "      <td>...</td>\n",
       "      <td>171.2</td>\n",
       "      <td>94.5</td>\n",
       "      <td>0</td>\n",
       "      <td>2</td>\n",
       "      <td>2</td>\n",
       "      <td>2.0</td>\n",
       "      <td>0</td>\n",
       "      <td>1</td>\n",
       "      <td>0</td>\n",
       "      <td>122.0</td>\n",
       "    </tr>\n",
       "    <tr>\n",
       "      <th>3</th>\n",
       "      <td>13950.0</td>\n",
       "      <td>30</td>\n",
       "      <td>24</td>\n",
       "      <td>5500.0</td>\n",
       "      <td>102.0</td>\n",
       "      <td>10.0</td>\n",
       "      <td>3.40</td>\n",
       "      <td>3.19</td>\n",
       "      <td>5</td>\n",
       "      <td>109</td>\n",
       "      <td>...</td>\n",
       "      <td>176.6</td>\n",
       "      <td>99.8</td>\n",
       "      <td>0</td>\n",
       "      <td>1</td>\n",
       "      <td>3</td>\n",
       "      <td>4.0</td>\n",
       "      <td>0</td>\n",
       "      <td>1</td>\n",
       "      <td>1</td>\n",
       "      <td>164.0</td>\n",
       "    </tr>\n",
       "    <tr>\n",
       "      <th>4</th>\n",
       "      <td>17450.0</td>\n",
       "      <td>22</td>\n",
       "      <td>18</td>\n",
       "      <td>5500.0</td>\n",
       "      <td>115.0</td>\n",
       "      <td>8.0</td>\n",
       "      <td>3.40</td>\n",
       "      <td>3.19</td>\n",
       "      <td>5</td>\n",
       "      <td>136</td>\n",
       "      <td>...</td>\n",
       "      <td>176.6</td>\n",
       "      <td>99.4</td>\n",
       "      <td>0</td>\n",
       "      <td>0</td>\n",
       "      <td>3</td>\n",
       "      <td>4.0</td>\n",
       "      <td>0</td>\n",
       "      <td>1</td>\n",
       "      <td>1</td>\n",
       "      <td>164.0</td>\n",
       "    </tr>\n",
       "  </tbody>\n",
       "</table>\n",
       "<p>5 rows × 25 columns</p>\n",
       "</div>"
      ],
      "text/plain": [
       "     price  highway-mpg  city-mpg  peak-rpm  horsepower  compression-ratio  \\\n",
       "0  13495.0           27        21    5000.0       111.0                9.0   \n",
       "1  16500.0           27        21    5000.0       111.0                9.0   \n",
       "2  16500.0           26        19    5000.0       154.0                9.0   \n",
       "3  13950.0           30        24    5500.0       102.0               10.0   \n",
       "4  17450.0           22        18    5500.0       115.0                8.0   \n",
       "\n",
       "   stroke  bore  fuel-system  engine-size  ...  length  wheel-base  \\\n",
       "0    2.68  3.47            5          130  ...   168.8        88.6   \n",
       "1    2.68  3.47            5          130  ...   168.8        88.6   \n",
       "2    3.47  2.68            5          152  ...   171.2        94.5   \n",
       "3    3.40  3.19            5          109  ...   176.6        99.8   \n",
       "4    3.40  3.19            5          136  ...   176.6        99.4   \n",
       "\n",
       "   engine-location  drive-wheels  body-style  num-of-doors  aspiration  \\\n",
       "0                0             2           0           2.0           0   \n",
       "1                0             2           0           2.0           0   \n",
       "2                0             2           2           2.0           0   \n",
       "3                0             1           3           4.0           0   \n",
       "4                0             0           3           4.0           0   \n",
       "\n",
       "   fuel-type  make  normalized-losses  \n",
       "0          1     0              122.0  \n",
       "1          1     0              122.0  \n",
       "2          1     0              122.0  \n",
       "3          1     1              164.0  \n",
       "4          1     1              164.0  \n",
       "\n",
       "[5 rows x 25 columns]"
      ]
     },
     "execution_count": 256,
     "metadata": {},
     "output_type": "execute_result"
    }
   ],
   "source": [
    "x.head()"
   ]
  },
  {
   "cell_type": "markdown",
   "metadata": {},
   "source": [
    "## Data Visualization"
   ]
  },
  {
   "cell_type": "code",
   "execution_count": 257,
   "metadata": {},
   "outputs": [
    {
     "data": {
      "image/png": "[encoded data removed]",
      "text/plain": [
       "<Figure size 1200x800 with 2 Axes>"
      ]
     },
     "metadata": {},
     "output_type": "display_data"
    }
   ],
   "source": [
    "plt.figure(figsize=(12, 8))\n",
    "sns.heatmap(x[numeric_columns].corr(), annot=True, cmap='coolwarm', fmt='.2f')\n",
    "plt.title('Correlation Matrix of Selected Numerical Columns')\n",
    "plt.show()"
   ]
  },
  {
   "cell_type": "code",
   "execution_count": 258,
   "metadata": {},
   "outputs": [
    {
     "data": {
      "image/png": "[encoded data removed]",
      "text/plain": [
       "<Figure size 800x600 with 1 Axes>"
      ]
     },
     "metadata": {},
     "output_type": "display_data"
    }
   ],
   "source": [
    "plt.figure(figsize=(8, 6))\n",
    "\n",
    "sns.scatterplot(x='horsepower', y='price', hue='bore', data=x)\n",
    "plt.title('Scatter Plot of Engine Size vs Price by Make')\n",
    "plt.legend(bbox_to_anchor=(1.05, 1), loc='upper left', title= \"bore\")\n",
    "plt.show()"
   ]
  },
  {
   "cell_type": "code",
   "execution_count": 259,
   "metadata": {},
   "outputs": [
    {
     "data": {
      "image/png": "[encoded data removed]",
      "text/plain": [
       "<Figure size 1000x600 with 1 Axes>"
      ]
     },
     "metadata": {},
     "output_type": "display_data"
    }
   ],
   "source": [
    "plt.figure(figsize=(10, 6))\n",
    "\n",
    "# Price \n",
    "sns.boxplot(x=x['price'])\n",
    "\n",
    "# title and labels\n",
    "plt.title('Boxplot of Price')\n",
    "plt.xlabel('Price')\n",
    "\n",
    "plt.show()"
   ]
  },
  {
   "cell_type": "markdown",
   "metadata": {},
   "source": [
    "## Normalize "
   ]
  },
  {
   "cell_type": "code",
   "execution_count": 260,
   "metadata": {},
   "outputs": [],
   "source": [
    "x = preprocessing.StandardScaler().fit(x).transform(x.astype(float))"
   ]
  },
  {
   "cell_type": "markdown",
   "metadata": {},
   "source": [
    "## Classification"
   ]
  },
  {
   "cell_type": "code",
   "execution_count": 261,
   "metadata": {},
   "outputs": [
    {
     "name": "stderr",
     "output_type": "stream",
     "text": [
      "c:\\Users\\Excalibur\\anaconda3\\Lib\\site-packages\\sklearn\\neighbors\\_classification.py:215: DataConversionWarning: A column-vector y was passed when a 1d array was expected. Please change the shape of y to (n_samples,), for example using ravel().\n",
      "  return self._fit(X, y)\n"
     ]
    },
    {
     "data": {
      "text/html": [
       "<style>#sk-container-id-6 {color: black;background-color: white;}#sk-container-id-6 pre{padding: 0;}#sk-container-id-6 div.sk-toggleable {background-color: white;}#sk-container-id-6 label.sk-toggleable__label {cursor: pointer;display: block;width: 100%;margin-bottom: 0;padding: 0.3em;box-sizing: border-box;text-align: center;}#sk-container-id-6 label.sk-toggleable__label-arrow:before {content: \"▸\";float: left;margin-right: 0.25em;color: #696969;}#sk-container-id-6 label.sk-toggleable__label-arrow:hover:before {color: black;}#sk-container-id-6 div.sk-estimator:hover label.sk-toggleable__label-arrow:before {color: black;}#sk-container-id-6 div.sk-toggleable__content {max-height: 0;max-width: 0;overflow: hidden;text-align: left;background-color: #f0f8ff;}#sk-container-id-6 div.sk-toggleable__content pre {margin: 0.2em;color: black;border-radius: 0.25em;background-color: #f0f8ff;}#sk-container-id-6 input.sk-toggleable__control:checked~div.sk-toggleable__content {max-height: 200px;max-width: 100%;overflow: auto;}#sk-container-id-6 input.sk-toggleable__control:checked~label.sk-toggleable__label-arrow:before {content: \"▾\";}#sk-container-id-6 div.sk-estimator input.sk-toggleable__control:checked~label.sk-toggleable__label {background-color: #d4ebff;}#sk-container-id-6 div.sk-label input.sk-toggleable__control:checked~label.sk-toggleable__label {background-color: #d4ebff;}#sk-container-id-6 input.sk-hidden--visually {border: 0;clip: rect(1px 1px 1px 1px);clip: rect(1px, 1px, 1px, 1px);height: 1px;margin: -1px;overflow: hidden;padding: 0;position: absolute;width: 1px;}#sk-container-id-6 div.sk-estimator {font-family: monospace;background-color: #f0f8ff;border: 1px dotted black;border-radius: 0.25em;box-sizing: border-box;margin-bottom: 0.5em;}#sk-container-id-6 div.sk-estimator:hover {background-color: #d4ebff;}#sk-container-id-6 div.sk-parallel-item::after {content: \"\";width: 100%;border-bottom: 1px solid gray;flex-grow: 1;}#sk-container-id-6 div.sk-label:hover label.sk-toggleable__label {background-color: #d4ebff;}#sk-container-id-6 div.sk-serial::before {content: \"\";position: absolute;border-left: 1px solid gray;box-sizing: border-box;top: 0;bottom: 0;left: 50%;z-index: 0;}#sk-container-id-6 div.sk-serial {display: flex;flex-direction: column;align-items: center;background-color: white;padding-right: 0.2em;padding-left: 0.2em;position: relative;}#sk-container-id-6 div.sk-item {position: relative;z-index: 1;}#sk-container-id-6 div.sk-parallel {display: flex;align-items: stretch;justify-content: center;background-color: white;position: relative;}#sk-container-id-6 div.sk-item::before, #sk-container-id-6 div.sk-parallel-item::before {content: \"\";position: absolute;border-left: 1px solid gray;box-sizing: border-box;top: 0;bottom: 0;left: 50%;z-index: -1;}#sk-container-id-6 div.sk-parallel-item {display: flex;flex-direction: column;z-index: 1;position: relative;background-color: white;}#sk-container-id-6 div.sk-parallel-item:first-child::after {align-self: flex-end;width: 50%;}#sk-container-id-6 div.sk-parallel-item:last-child::after {align-self: flex-start;width: 50%;}#sk-container-id-6 div.sk-parallel-item:only-child::after {width: 0;}#sk-container-id-6 div.sk-dashed-wrapped {border: 1px dashed gray;margin: 0 0.4em 0.5em 0.4em;box-sizing: border-box;padding-bottom: 0.4em;background-color: white;}#sk-container-id-6 div.sk-label label {font-family: monospace;font-weight: bold;display: inline-block;line-height: 1.2em;}#sk-container-id-6 div.sk-label-container {text-align: center;}#sk-container-id-6 div.sk-container {/* jupyter's `normalize.less` sets `[hidden] { display: none; }` but bootstrap.min.css set `[hidden] { display: none !important; }` so we also need the `!important` here to be able to override the default hidden behavior on the sphinx rendered scikit-learn.org. See: https://github.com/scikit-learn/scikit-learn/issues/21755 */display: inline-block !important;position: relative;}#sk-container-id-6 div.sk-text-repr-fallback {display: none;}</style><div id=\"sk-container-id-6\" class=\"sk-top-container\"><div class=\"sk-text-repr-fallback\"><pre>KNeighborsClassifier(n_neighbors=4)</pre><b>In a Jupyter environment, please rerun this cell to show the HTML representation or trust the notebook. <br />On GitHub, the HTML representation is unable to render, please try loading this page with nbviewer.org.</b></div><div class=\"sk-container\" hidden><div class=\"sk-item\"><div class=\"sk-estimator sk-toggleable\"><input class=\"sk-toggleable__control sk-hidden--visually\" id=\"sk-estimator-id-6\" type=\"checkbox\" checked><label for=\"sk-estimator-id-6\" class=\"sk-toggleable__label sk-toggleable__label-arrow\">KNeighborsClassifier</label><div class=\"sk-toggleable__content\"><pre>KNeighborsClassifier(n_neighbors=4)</pre></div></div></div></div></div>"
      ],
      "text/plain": [
       "KNeighborsClassifier(n_neighbors=4)"
      ]
     },
     "execution_count": 261,
     "metadata": {},
     "output_type": "execute_result"
    }
   ],
   "source": [
    "# Separating the data set into training and testing sets\n",
    "X_train, X_test, y_train, y_test = train_test_split(x, y, test_size=0.2, random_state=42)\n",
    "\n",
    "# Creating the k-NN model (k=3)\n",
    "k=4\n",
    "knn_model = KNeighborsClassifier(n_neighbors=k)\n",
    "\n",
    "# Train the model\n",
    "knn_model.fit(X_train, y_train)"
   ]
  },
  {
   "cell_type": "code",
   "execution_count": 262,
   "metadata": {},
   "outputs": [
    {
     "name": "stdout",
     "output_type": "stream",
     "text": [
      "Train set accuracy:0.79\n",
      "Test set accuracy:0.66\n"
     ]
    }
   ],
   "source": [
    "# Make predictions using the test set\n",
    "y_pred = knn_model.predict(X_test)\n",
    "\n",
    "# Evaluate the accuracy of the model\n",
    "train_accuracy = accuracy_score(y_train, knn_model.predict(X_train))\n",
    "print(f\"Train set accuracy:{train_accuracy:.2f}\", )\n",
    "\n",
    "# evaluate the accuracy of the model\n",
    "test_accuracy = accuracy_score(y_test, y_pred)\n",
    "print(f\"Test set accuracy:{test_accuracy:.2f}\", )\n",
    "\n"
   ]
  },
  {
   "cell_type": "markdown",
   "metadata": {},
   "source": [
    "## Evaluation"
   ]
  },
  {
   "cell_type": "markdown",
   "metadata": {},
   "source": [
    "### Jaccard Index\n",
    "\n",
    "Jaccard Index is a metric used to measure the similarity between two sets.\n",
    "\n",
    "Jaccard_Index= ∣A∩B∣ / ∣A∪B∣"
   ]
  },
  {
   "cell_type": "code",
   "execution_count": 264,
   "metadata": {},
   "outputs": [
    {
     "name": "stdout",
     "output_type": "stream",
     "text": [
      "Jaccard Index: 0.49\n"
     ]
    }
   ],
   "source": [
    "# evaluation Jaccard İndeksi\n",
    "jaccard_index = jaccard_score(y_test, y_pred, average='micro')\n",
    "\n",
    "print(f\"Jaccard Index: {jaccard_index:.2f}\")"
   ]
  },
  {
   "cell_type": "markdown",
   "metadata": {},
   "source": [
    "## Log Loss\n",
    "\n",
    "Log Loss (Logarithmic Loss) or Cross-Entropy Loss is a metric that measures how well a classification model's predictions align with the actual labels."
   ]
  },
  {
   "cell_type": "code",
   "execution_count": 269,
   "metadata": {},
   "outputs": [
    {
     "data": {
      "text/plain": [
       " 0    20\n",
       " 1     9\n",
       "-1     4\n",
       " 2     4\n",
       " 3     4\n",
       "dtype: int64"
      ]
     },
     "execution_count": 269,
     "metadata": {},
     "output_type": "execute_result"
    }
   ],
   "source": [
    "y_pred=pd.DataFrame(y_pred)\n",
    "y_pred.value_counts()"
   ]
  },
  {
   "cell_type": "code",
   "execution_count": 270,
   "metadata": {},
   "outputs": [
    {
     "name": "stdout",
     "output_type": "stream",
     "text": [
      "Log Loss: 4.040\n"
     ]
    }
   ],
   "source": [
    "y_pred_proba = knn_model.predict_proba(X_test)\n",
    "logloss = log_loss(y_test, y_pred_proba)\n",
    "\n",
    "print(f\"Log Loss: {logloss:.3f}\")"
   ]
  },
  {
   "cell_type": "markdown",
   "metadata": {},
   "source": [
    "## F1-Score "
   ]
  },
  {
   "cell_type": "code",
   "execution_count": 272,
   "metadata": {},
   "outputs": [
    {
     "name": "stdout",
     "output_type": "stream",
     "text": [
      "F1 Score:0.64\n"
     ]
    }
   ],
   "source": [
    "# evaluation F1-score\n",
    "f1score = f1_score(y_test, y_pred, average='weighted')\n",
    "\n",
    "print(f\"F1 Score:{f1score:.2f}\", )"
   ]
  }
 ],
 "metadata": {
  "kernelspec": {
   "display_name": "base",
   "language": "python",
   "name": "python3"
  },
  "language_info": {
   "codemirror_mode": {
    "name": "ipython",
    "version": 3
   },
   "file_extension": ".py",
   "mimetype": "text/x-python",
   "name": "python",
   "nbconvert_exporter": "python",
   "pygments_lexer": "ipython3",
   "version": "3.11.3"
  }
 },
 "nbformat": 4,
 "nbformat_minor": 2
}
