{
 "cells": [
  {
   "cell_type": "markdown",
   "metadata": {},
   "source": [
    "## Week 2"
   ]
  },
  {
   "cell_type": "markdown",
   "metadata": {},
   "source": [
    "#### Exercise "
   ]
  },
  {
   "cell_type": "markdown",
   "metadata": {},
   "source": [
    "Use and experience methods from previous lessons with given data. Try to search for other pandas methods to analyze the data such as groupby() and read_csv()."
   ]
  },
  {
   "cell_type": "code",
   "execution_count": 1,
   "metadata": {},
   "outputs": [],
   "source": [
    "base_url = \"../Odevler/data/covid/\"\n",
    "infected_dataset_url = base_url + \"time_series_covid19_confirmed_global.csv\"\n",
    "recovered_dataset_url = base_url + \"time_series_covid19_recovered_global.csv\"\n",
    "deaths_dataset_url = base_url + \"time_series_covid19_deaths_global.csv\""
   ]
  },
  {
   "cell_type": "code",
   "execution_count": 2,
   "metadata": {},
   "outputs": [],
   "source": [
    "import pandas as pd\n",
    "import numpy as np"
   ]
  },
  {
   "cell_type": "code",
   "execution_count": 3,
   "metadata": {},
   "outputs": [],
   "source": [
    "df_confirm = pd.read_csv(infected_dataset_url)\n",
    "df_recovered = pd.read_csv(recovered_dataset_url)\n",
    "df_deaths = pd.read_csv(deaths_dataset_url)"
   ]
  },
  {
   "cell_type": "code",
   "execution_count": 4,
   "metadata": {},
   "outputs": [],
   "source": [
    "# Time data, combine data to single column\n",
    "dates = df_confirm.columns[4:]\n",
    "\n",
    "df_confirm_re = df_confirm.melt(\n",
    "    id_vars= [\"Province/State\", \"Country/Region\", \"Lat\",\"Long\"],\n",
    "    value_vars= dates,\n",
    "    var_name= \"Date\",\n",
    "    value_name= \"Confirmed\"\n",
    ")\n",
    "\n",
    "df_recovered_re = df_recovered.melt(\n",
    "    id_vars= [\"Province/State\", \"Country/Region\", \"Lat\",\"Long\"],\n",
    "    value_vars= dates,\n",
    "    var_name= \"Date\",\n",
    "    value_name= \"Recovered\"\n",
    ")\n",
    "\n",
    "df_deaths_re = df_deaths.melt(\n",
    "    id_vars= [\"Province/State\", \"Country/Region\", \"Lat\",\"Long\"],\n",
    "    value_vars= dates,\n",
    "    var_name= \"Date\",\n",
    "    value_name= \"Deaths\"\n",
    ")"
   ]
  },
  {
   "cell_type": "code",
   "execution_count": 5,
   "metadata": {},
   "outputs": [],
   "source": [
    "# Merging two table\n",
    "full_table = df_confirm_re.merge(\n",
    "    right= df_recovered_re,\n",
    "    how= \"left\",\n",
    "    on = [\"Province/State\", \"Country/Region\",'Date', \"Lat\",\"Long\"]\n",
    ")"
   ]
  },
  {
   "cell_type": "code",
   "execution_count": 6,
   "metadata": {},
   "outputs": [],
   "source": [
    "# Merging last table\n",
    "full_table = full_table.merge(\n",
    "    right= df_deaths_re,\n",
    "    how= \"left\",\n",
    "    on= [\"Province/State\", \"Country/Region\",'Date', \"Lat\",\"Long\"]\n",
    ")"
   ]
  },
  {
   "cell_type": "code",
   "execution_count": 7,
   "metadata": {},
   "outputs": [
    {
     "data": {
      "text/html": [
       "<div>\n",
       "<style scoped>\n",
       "    .dataframe tbody tr th:only-of-type {\n",
       "        vertical-align: middle;\n",
       "    }\n",
       "\n",
       "    .dataframe tbody tr th {\n",
       "        vertical-align: top;\n",
       "    }\n",
       "\n",
       "    .dataframe thead th {\n",
       "        text-align: right;\n",
       "    }\n",
       "</style>\n",
       "<table border=\"1\" class=\"dataframe\">\n",
       "  <thead>\n",
       "    <tr style=\"text-align: right;\">\n",
       "      <th></th>\n",
       "      <th>Province/State</th>\n",
       "      <th>Country/Region</th>\n",
       "      <th>Lat</th>\n",
       "      <th>Long</th>\n",
       "      <th>Date</th>\n",
       "      <th>Confirmed</th>\n",
       "      <th>Recovered</th>\n",
       "      <th>Deaths</th>\n",
       "    </tr>\n",
       "  </thead>\n",
       "  <tbody>\n",
       "    <tr>\n",
       "      <th>38831</th>\n",
       "      <td>NaN</td>\n",
       "      <td>Sao Tome and Principe</td>\n",
       "      <td>0.186360</td>\n",
       "      <td>6.613081</td>\n",
       "      <td>6/15/20</td>\n",
       "      <td>662</td>\n",
       "      <td>177.0</td>\n",
       "      <td>12</td>\n",
       "    </tr>\n",
       "    <tr>\n",
       "      <th>38832</th>\n",
       "      <td>NaN</td>\n",
       "      <td>Yemen</td>\n",
       "      <td>15.552727</td>\n",
       "      <td>48.516388</td>\n",
       "      <td>6/15/20</td>\n",
       "      <td>844</td>\n",
       "      <td>79.0</td>\n",
       "      <td>208</td>\n",
       "    </tr>\n",
       "    <tr>\n",
       "      <th>38833</th>\n",
       "      <td>NaN</td>\n",
       "      <td>Comoros</td>\n",
       "      <td>-11.645500</td>\n",
       "      <td>43.333300</td>\n",
       "      <td>6/15/20</td>\n",
       "      <td>176</td>\n",
       "      <td>114.0</td>\n",
       "      <td>2</td>\n",
       "    </tr>\n",
       "    <tr>\n",
       "      <th>38834</th>\n",
       "      <td>NaN</td>\n",
       "      <td>Tajikistan</td>\n",
       "      <td>38.861034</td>\n",
       "      <td>71.276093</td>\n",
       "      <td>6/15/20</td>\n",
       "      <td>5097</td>\n",
       "      <td>3503.0</td>\n",
       "      <td>50</td>\n",
       "    </tr>\n",
       "    <tr>\n",
       "      <th>38835</th>\n",
       "      <td>NaN</td>\n",
       "      <td>Lesotho</td>\n",
       "      <td>-29.609988</td>\n",
       "      <td>28.233608</td>\n",
       "      <td>6/15/20</td>\n",
       "      <td>4</td>\n",
       "      <td>2.0</td>\n",
       "      <td>0</td>\n",
       "    </tr>\n",
       "  </tbody>\n",
       "</table>\n",
       "</div>"
      ],
      "text/plain": [
       "      Province/State         Country/Region        Lat       Long     Date  \\\n",
       "38831            NaN  Sao Tome and Principe   0.186360   6.613081  6/15/20   \n",
       "38832            NaN                  Yemen  15.552727  48.516388  6/15/20   \n",
       "38833            NaN                Comoros -11.645500  43.333300  6/15/20   \n",
       "38834            NaN             Tajikistan  38.861034  71.276093  6/15/20   \n",
       "38835            NaN                Lesotho -29.609988  28.233608  6/15/20   \n",
       "\n",
       "       Confirmed  Recovered  Deaths  \n",
       "38831        662      177.0      12  \n",
       "38832        844       79.0     208  \n",
       "38833        176      114.0       2  \n",
       "38834       5097     3503.0      50  \n",
       "38835          4        2.0       0  "
      ]
     },
     "execution_count": 7,
     "metadata": {},
     "output_type": "execute_result"
    }
   ],
   "source": [
    "full_table.tail()"
   ]
  },
  {
   "cell_type": "code",
   "execution_count": 8,
   "metadata": {},
   "outputs": [],
   "source": [
    "# Date data converted to readable format\n",
    "full_table['Date'] = pd.to_datetime(full_table['Date'])"
   ]
  },
  {
   "cell_type": "code",
   "execution_count": 9,
   "metadata": {},
   "outputs": [
    {
     "data": {
      "text/plain": [
       "Province/State    27010\n",
       "Country/Region        0\n",
       "Lat                   0\n",
       "Long                  0\n",
       "Date                  0\n",
       "Confirmed             0\n",
       "Recovered          2482\n",
       "Deaths                0\n",
       "dtype: int64"
      ]
     },
     "execution_count": 9,
     "metadata": {},
     "output_type": "execute_result"
    }
   ],
   "source": [
    "full_table.isna().sum()"
   ]
  },
  {
   "cell_type": "code",
   "execution_count": 10,
   "metadata": {},
   "outputs": [
    {
     "name": "stdout",
     "output_type": "stream",
     "text": [
      "Table size 310688, shape (38836, 8)\n"
     ]
    }
   ],
   "source": [
    "size_table = full_table.size\n",
    "shape_table = full_table.shape\n",
    "\n",
    "print(f\"Table size {size_table}, shape {shape_table}\")"
   ]
  },
  {
   "cell_type": "code",
   "execution_count": 11,
   "metadata": {},
   "outputs": [
    {
     "name": "stdout",
     "output_type": "stream",
     "text": [
      "<class 'pandas.core.frame.DataFrame'>\n",
      "Int64Index: 38836 entries, 0 to 38835\n",
      "Data columns (total 8 columns):\n",
      " #   Column          Non-Null Count  Dtype         \n",
      "---  ------          --------------  -----         \n",
      " 0   Province/State  11826 non-null  object        \n",
      " 1   Country/Region  38836 non-null  object        \n",
      " 2   Lat             38836 non-null  float64       \n",
      " 3   Long            38836 non-null  float64       \n",
      " 4   Date            38836 non-null  datetime64[ns]\n",
      " 5   Confirmed       38836 non-null  int64         \n",
      " 6   Recovered       36354 non-null  float64       \n",
      " 7   Deaths          38836 non-null  int64         \n",
      "dtypes: datetime64[ns](1), float64(3), int64(2), object(2)\n",
      "memory usage: 2.7+ MB\n"
     ]
    }
   ],
   "source": [
    "table_info = full_table.info()"
   ]
  },
  {
   "cell_type": "code",
   "execution_count": 12,
   "metadata": {},
   "outputs": [
    {
     "data": {
      "text/plain": [
       "pandas.core.frame.DataFrame"
      ]
     },
     "execution_count": 12,
     "metadata": {},
     "output_type": "execute_result"
    }
   ],
   "source": [
    "type(full_table)"
   ]
  }
 ],
 "metadata": {
  "kernelspec": {
   "display_name": "base",
   "language": "python",
   "name": "python3"
  },
  "language_info": {
   "codemirror_mode": {
    "name": "ipython",
    "version": 3
   },
   "file_extension": ".py",
   "mimetype": "text/x-python",
   "name": "python",
   "nbconvert_exporter": "python",
   "pygments_lexer": "ipython3",
   "version": "3.11.3"
  }
 },
 "nbformat": 4,
 "nbformat_minor": 2
}
