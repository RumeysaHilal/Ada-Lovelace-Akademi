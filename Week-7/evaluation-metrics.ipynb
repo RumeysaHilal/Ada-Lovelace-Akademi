{
 "cells": [
  {
   "cell_type": "markdown",
   "metadata": {},
   "source": [
    "# Evaluation Metrics for Classifiers\n",
    "\n",
    "1. Jaccard Index\n",
    "2. F1-Score\n",
    "3. Log Loss"
   ]
  },
  {
   "cell_type": "markdown",
   "metadata": {},
   "source": [
    "### Jaccard Index (Jaccard Similarity Index)\n",
    "\n",
    "y: actual values\n",
    "\n",
    "y^: predicted values"
   ]
  },
  {
   "cell_type": "code",
   "execution_count": 1,
   "metadata": {},
   "outputs": [],
   "source": [
    "y =[0,0,0,0,0,1,1,1,1,1]\n",
    "y_pred = [1,1,0,0,0,1,1,1,1,1]"
   ]
  },
  {
   "cell_type": "code",
   "execution_count": 2,
   "metadata": {},
   "outputs": [
    {
     "name": "stdout",
     "output_type": "stream",
     "text": [
      "0.6666666666666666\n"
     ]
    }
   ],
   "source": [
    "# jaccard index formula\n",
    "jaccard = 8/ (10 + 10 -8)\n",
    "print(jaccard)"
   ]
  },
  {
   "cell_type": "markdown",
   "metadata": {},
   "source": [
    "### F1 - Score\n",
    "\n",
    "Precision, Recall\n",
    "\n",
    "Presicion is a measure of the accuracy\n",
    "Recall is the true positive rate\n",
    "\n",
    "precision = tp / (tp + fp)\n",
    "\n",
    "recall = tp / (tp + fn)"
   ]
  },
  {
   "cell_type": "code",
   "execution_count": 5,
   "metadata": {},
   "outputs": [],
   "source": [
    "TP = 12\n",
    "FN = 1\n",
    "TN = 10\n",
    "FP = 2\n",
    "\n",
    "# class = 0\n",
    "precision_0 = TP / (TP + FP)\n",
    "\n",
    "recall_0 = TP / (TP + FN)"
   ]
  },
  {
   "cell_type": "code",
   "execution_count": 8,
   "metadata": {},
   "outputs": [],
   "source": [
    "TP = 10\n",
    "FN = 2\n",
    "TN = 12\n",
    "FP = 1\n",
    "\n",
    "# class = 0\n",
    "precision_1 = TP / (TP + FP)\n",
    "\n",
    "recall_1 = TP / (TP + FN)"
   ]
  },
  {
   "cell_type": "code",
   "execution_count": 10,
   "metadata": {},
   "outputs": [
    {
     "name": "stdout",
     "output_type": "stream",
     "text": [
      "class= 0 0.86 0.92\n",
      "class= 1 0.91 0.83\n"
     ]
    }
   ],
   "source": [
    "\n",
    "print(f\"class= 0 {precision_0 :.2f} {recall_0:.2f}\")\n",
    "print(f\"class= 1 {precision_1:.2f} {recall_1:.2f}\")"
   ]
  },
  {
   "cell_type": "markdown",
   "metadata": {},
   "source": [
    "f1-score = 2 * (prc * rec) / (prc + rec)"
   ]
  },
  {
   "cell_type": "code",
   "execution_count": 11,
   "metadata": {},
   "outputs": [],
   "source": [
    "f1_score_0 = 2 * (precision_0 * recall_0) / (precision_0 + recall_0)\n",
    "f1_score_1 = 2 * (precision_1 * recall_1) / (precision_1 + recall_1)"
   ]
  },
  {
   "cell_type": "code",
   "execution_count": 12,
   "metadata": {},
   "outputs": [
    {
     "name": "stdout",
     "output_type": "stream",
     "text": [
      "0.89 \n",
      "0.87\n"
     ]
    }
   ],
   "source": [
    "print(f\"{f1_score_0:.2f} \")\n",
    "print(f\"{f1_score_1:.2}\")"
   ]
  },
  {
   "cell_type": "markdown",
   "metadata": {},
   "source": [
    "The F1 score's best value is 1.0"
   ]
  },
  {
   "cell_type": "markdown",
   "metadata": {},
   "source": [
    "both jaccard and f1-score can be used for multiclass classifiers as well."
   ]
  },
  {
   "cell_type": "markdown",
   "metadata": {},
   "source": [
    "### Log - Loss\n",
    "\n",
    "classifiers with smaller values log loss are ideal."
   ]
  }
 ],
 "metadata": {
  "kernelspec": {
   "display_name": "base",
   "language": "python",
   "name": "python3"
  },
  "language_info": {
   "codemirror_mode": {
    "name": "ipython",
    "version": 3
   },
   "file_extension": ".py",
   "mimetype": "text/x-python",
   "name": "python",
   "nbconvert_exporter": "python",
   "pygments_lexer": "ipython3",
   "version": "3.11.3"
  }
 },
 "nbformat": 4,
 "nbformat_minor": 2
}
