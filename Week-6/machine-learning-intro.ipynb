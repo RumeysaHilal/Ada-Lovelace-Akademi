{
 "cells": [
  {
   "cell_type": "markdown",
   "metadata": {},
   "source": [
    "## Python for Machine Learning"
   ]
  },
  {
   "cell_type": "markdown",
   "metadata": {},
   "source": [
    "#### Libraries for Machine Learning\n",
    "1. numpy\n",
    "\n",
    "2. SciPy\n",
    "\n",
    "3. Matplotlib\n",
    "\n",
    "4. Pandas\n",
    "\n",
    "5. scikit-learn"
   ]
  },
  {
   "cell_type": "markdown",
   "metadata": {},
   "source": [
    "#### scikit-learn\n",
    "- allows to work with numpy and scipy\n",
    "- good docs \n",
    "- easy to use\n",
    "\n",
    "pre-processing of data,\n",
    "\n",
    "feature selection,\n",
    "\n",
    "feature extraction,\n",
    "\n",
    "train/test splitting,\n",
    "\n",
    "defining the algorithms,\n",
    "\n",
    "fitting the model,\n",
    "\n",
    "tuning the model,\n",
    "\n",
    "prediction,\n",
    "\n",
    "evaluation,\n",
    "\n",
    "an exporting the model."
   ]
  },
  {
   "cell_type": "code",
   "execution_count": 1,
   "metadata": {},
   "outputs": [],
   "source": [
    "from sklearn import preprocessing\n",
    "X= preprocessing.StandardScaler().fit(X).transform(X)"
   ]
  },
  {
   "cell_type": "markdown",
   "metadata": {},
   "source": [
    "##### train/test split"
   ]
  },
  {
   "cell_type": "code",
   "execution_count": null,
   "metadata": {},
   "outputs": [],
   "source": [
    "from sklearn.model_selection import train_test_split\n",
    "X_train, X_test, y_train, y_test = train_test_split(X,y, test_size=0.3)"
   ]
  },
  {
   "cell_type": "markdown",
   "metadata": {},
   "source": []
  },
  {
   "cell_type": "code",
   "execution_count": null,
   "metadata": {},
   "outputs": [],
   "source": [
    "from sklearn import svm\n",
    "clf = svm.SVC(gamma=0.01, C=90.0) # estimator instance\n",
    "\n",
    "clf.fit(X_train, y_train)\n",
    "\n",
    "clf.predict(X_test)"
   ]
  },
  {
   "cell_type": "markdown",
   "metadata": {},
   "source": [
    "##### Evaluation"
   ]
  },
  {
   "cell_type": "code",
   "execution_count": null,
   "metadata": {},
   "outputs": [],
   "source": [
    "from sklearn.metrics import confusion_matrix # use metrics to evaluate model accuracy\n",
    "confusion_matrix(y_test, labels=[1,0])"
   ]
  },
  {
   "cell_type": "markdown",
   "metadata": {},
   "source": [
    "##### exporting the model"
   ]
  },
  {
   "cell_type": "code",
   "execution_count": null,
   "metadata": {},
   "outputs": [],
   "source": [
    "import pickle \n",
    "s = pickle.dumps(clf)"
   ]
  },
  {
   "cell_type": "markdown",
   "metadata": {},
   "source": [
    "### Supervised and Unsupervised"
   ]
  },
  {
   "cell_type": "code",
   "execution_count": 8,
   "metadata": {},
   "outputs": [],
   "source": [
    "import pandas as pd\n",
    "import numpy as np \n",
    "\n",
    "cancer_data = pd.read_csv(\"../data/cancer_data.csv\")"
   ]
  },
  {
   "cell_type": "code",
   "execution_count": 12,
   "metadata": {},
   "outputs": [],
   "source": [
    "cancer_data[\"diagnosis\"] = cancer_data[\"diagnosis\"].astype(\"category\")"
   ]
  },
  {
   "cell_type": "code",
   "execution_count": 13,
   "metadata": {},
   "outputs": [
    {
     "name": "stdout",
     "output_type": "stream",
     "text": [
      "<class 'pandas.core.frame.DataFrame'>\n",
      "RangeIndex: 569 entries, 0 to 568\n",
      "Data columns (total 33 columns):\n",
      " #   Column                   Non-Null Count  Dtype   \n",
      "---  ------                   --------------  -----   \n",
      " 0   id                       569 non-null    int64   \n",
      " 1   diagnosis                569 non-null    category\n",
      " 2   radius_mean              569 non-null    float64 \n",
      " 3   texture_mean             569 non-null    float64 \n",
      " 4   perimeter_mean           569 non-null    float64 \n",
      " 5   area_mean                569 non-null    float64 \n",
      " 6   smoothness_mean          569 non-null    float64 \n",
      " 7   compactness_mean         569 non-null    float64 \n",
      " 8   concavity_mean           569 non-null    float64 \n",
      " 9   concave points_mean      569 non-null    float64 \n",
      " 10  symmetry_mean            569 non-null    float64 \n",
      " 11  fractal_dimension_mean   569 non-null    float64 \n",
      " 12  radius_se                569 non-null    float64 \n",
      " 13  texture_se               569 non-null    float64 \n",
      " 14  perimeter_se             569 non-null    float64 \n",
      " 15  area_se                  569 non-null    float64 \n",
      " 16  smoothness_se            569 non-null    float64 \n",
      " 17  compactness_se           569 non-null    float64 \n",
      " 18  concavity_se             569 non-null    float64 \n",
      " 19  concave points_se        569 non-null    float64 \n",
      " 20  symmetry_se              569 non-null    float64 \n",
      " 21  fractal_dimension_se     569 non-null    float64 \n",
      " 22  radius_worst             569 non-null    float64 \n",
      " 23  texture_worst            569 non-null    float64 \n",
      " 24  perimeter_worst          569 non-null    float64 \n",
      " 25  area_worst               569 non-null    float64 \n",
      " 26  smoothness_worst         569 non-null    float64 \n",
      " 27  compactness_worst        569 non-null    float64 \n",
      " 28  concavity_worst          569 non-null    float64 \n",
      " 29  concave points_worst     569 non-null    float64 \n",
      " 30  symmetry_worst           569 non-null    float64 \n",
      " 31  fractal_dimension_worst  569 non-null    float64 \n",
      " 32  Unnamed: 32              0 non-null      float64 \n",
      "dtypes: category(1), float64(31), int64(1)\n",
      "memory usage: 143.1 KB\n"
     ]
    }
   ],
   "source": [
    "cancer_data.info()"
   ]
  },
  {
   "cell_type": "code",
   "execution_count": 11,
   "metadata": {},
   "outputs": [
    {
     "data": {
      "text/html": [
       "<div>\n",
       "<style scoped>\n",
       "    .dataframe tbody tr th:only-of-type {\n",
       "        vertical-align: middle;\n",
       "    }\n",
       "\n",
       "    .dataframe tbody tr th {\n",
       "        vertical-align: top;\n",
       "    }\n",
       "\n",
       "    .dataframe thead th {\n",
       "        text-align: right;\n",
       "    }\n",
       "</style>\n",
       "<table border=\"1\" class=\"dataframe\">\n",
       "  <thead>\n",
       "    <tr style=\"text-align: right;\">\n",
       "      <th></th>\n",
       "      <th>id</th>\n",
       "      <th>diagnosis</th>\n",
       "      <th>radius_mean</th>\n",
       "      <th>texture_mean</th>\n",
       "      <th>perimeter_mean</th>\n",
       "      <th>area_mean</th>\n",
       "      <th>smoothness_mean</th>\n",
       "      <th>compactness_mean</th>\n",
       "      <th>concavity_mean</th>\n",
       "      <th>concave points_mean</th>\n",
       "      <th>...</th>\n",
       "      <th>texture_worst</th>\n",
       "      <th>perimeter_worst</th>\n",
       "      <th>area_worst</th>\n",
       "      <th>smoothness_worst</th>\n",
       "      <th>compactness_worst</th>\n",
       "      <th>concavity_worst</th>\n",
       "      <th>concave points_worst</th>\n",
       "      <th>symmetry_worst</th>\n",
       "      <th>fractal_dimension_worst</th>\n",
       "      <th>Unnamed: 32</th>\n",
       "    </tr>\n",
       "  </thead>\n",
       "  <tbody>\n",
       "    <tr>\n",
       "      <th>67</th>\n",
       "      <td>859465</td>\n",
       "      <td>B</td>\n",
       "      <td>11.31</td>\n",
       "      <td>19.04</td>\n",
       "      <td>71.80</td>\n",
       "      <td>394.1</td>\n",
       "      <td>0.08139</td>\n",
       "      <td>0.04701</td>\n",
       "      <td>0.03709</td>\n",
       "      <td>0.02230</td>\n",
       "      <td>...</td>\n",
       "      <td>23.84</td>\n",
       "      <td>78.00</td>\n",
       "      <td>466.7</td>\n",
       "      <td>0.1290</td>\n",
       "      <td>0.09148</td>\n",
       "      <td>0.1444</td>\n",
       "      <td>0.06961</td>\n",
       "      <td>0.2400</td>\n",
       "      <td>0.06641</td>\n",
       "      <td>NaN</td>\n",
       "    </tr>\n",
       "    <tr>\n",
       "      <th>566</th>\n",
       "      <td>926954</td>\n",
       "      <td>M</td>\n",
       "      <td>16.60</td>\n",
       "      <td>28.08</td>\n",
       "      <td>108.30</td>\n",
       "      <td>858.1</td>\n",
       "      <td>0.08455</td>\n",
       "      <td>0.10230</td>\n",
       "      <td>0.09251</td>\n",
       "      <td>0.05302</td>\n",
       "      <td>...</td>\n",
       "      <td>34.12</td>\n",
       "      <td>126.70</td>\n",
       "      <td>1124.0</td>\n",
       "      <td>0.1139</td>\n",
       "      <td>0.30940</td>\n",
       "      <td>0.3403</td>\n",
       "      <td>0.14180</td>\n",
       "      <td>0.2218</td>\n",
       "      <td>0.07820</td>\n",
       "      <td>NaN</td>\n",
       "    </tr>\n",
       "    <tr>\n",
       "      <th>279</th>\n",
       "      <td>8911834</td>\n",
       "      <td>B</td>\n",
       "      <td>13.85</td>\n",
       "      <td>15.18</td>\n",
       "      <td>88.99</td>\n",
       "      <td>587.4</td>\n",
       "      <td>0.09516</td>\n",
       "      <td>0.07688</td>\n",
       "      <td>0.04479</td>\n",
       "      <td>0.03711</td>\n",
       "      <td>...</td>\n",
       "      <td>21.74</td>\n",
       "      <td>98.37</td>\n",
       "      <td>670.0</td>\n",
       "      <td>0.1185</td>\n",
       "      <td>0.17240</td>\n",
       "      <td>0.1456</td>\n",
       "      <td>0.09993</td>\n",
       "      <td>0.2955</td>\n",
       "      <td>0.06912</td>\n",
       "      <td>NaN</td>\n",
       "    </tr>\n",
       "    <tr>\n",
       "      <th>65</th>\n",
       "      <td>859283</td>\n",
       "      <td>M</td>\n",
       "      <td>14.78</td>\n",
       "      <td>23.94</td>\n",
       "      <td>97.40</td>\n",
       "      <td>668.3</td>\n",
       "      <td>0.11720</td>\n",
       "      <td>0.14790</td>\n",
       "      <td>0.12670</td>\n",
       "      <td>0.09029</td>\n",
       "      <td>...</td>\n",
       "      <td>33.39</td>\n",
       "      <td>114.60</td>\n",
       "      <td>925.1</td>\n",
       "      <td>0.1648</td>\n",
       "      <td>0.34160</td>\n",
       "      <td>0.3024</td>\n",
       "      <td>0.16140</td>\n",
       "      <td>0.3321</td>\n",
       "      <td>0.08911</td>\n",
       "      <td>NaN</td>\n",
       "    </tr>\n",
       "    <tr>\n",
       "      <th>427</th>\n",
       "      <td>90745</td>\n",
       "      <td>B</td>\n",
       "      <td>10.80</td>\n",
       "      <td>21.98</td>\n",
       "      <td>68.79</td>\n",
       "      <td>359.9</td>\n",
       "      <td>0.08801</td>\n",
       "      <td>0.05743</td>\n",
       "      <td>0.03614</td>\n",
       "      <td>0.01404</td>\n",
       "      <td>...</td>\n",
       "      <td>32.04</td>\n",
       "      <td>83.69</td>\n",
       "      <td>489.5</td>\n",
       "      <td>0.1303</td>\n",
       "      <td>0.16960</td>\n",
       "      <td>0.1927</td>\n",
       "      <td>0.07485</td>\n",
       "      <td>0.2965</td>\n",
       "      <td>0.07662</td>\n",
       "      <td>NaN</td>\n",
       "    </tr>\n",
       "  </tbody>\n",
       "</table>\n",
       "<p>5 rows × 33 columns</p>\n",
       "</div>"
      ],
      "text/plain": [
       "          id diagnosis  radius_mean  texture_mean  perimeter_mean  area_mean  \\\n",
       "67    859465         B        11.31         19.04           71.80      394.1   \n",
       "566   926954         M        16.60         28.08          108.30      858.1   \n",
       "279  8911834         B        13.85         15.18           88.99      587.4   \n",
       "65    859283         M        14.78         23.94           97.40      668.3   \n",
       "427    90745         B        10.80         21.98           68.79      359.9   \n",
       "\n",
       "     smoothness_mean  compactness_mean  concavity_mean  concave points_mean  \\\n",
       "67           0.08139           0.04701         0.03709              0.02230   \n",
       "566          0.08455           0.10230         0.09251              0.05302   \n",
       "279          0.09516           0.07688         0.04479              0.03711   \n",
       "65           0.11720           0.14790         0.12670              0.09029   \n",
       "427          0.08801           0.05743         0.03614              0.01404   \n",
       "\n",
       "     ...  texture_worst  perimeter_worst  area_worst  smoothness_worst  \\\n",
       "67   ...          23.84            78.00       466.7            0.1290   \n",
       "566  ...          34.12           126.70      1124.0            0.1139   \n",
       "279  ...          21.74            98.37       670.0            0.1185   \n",
       "65   ...          33.39           114.60       925.1            0.1648   \n",
       "427  ...          32.04            83.69       489.5            0.1303   \n",
       "\n",
       "     compactness_worst  concavity_worst  concave points_worst  symmetry_worst  \\\n",
       "67             0.09148           0.1444               0.06961          0.2400   \n",
       "566            0.30940           0.3403               0.14180          0.2218   \n",
       "279            0.17240           0.1456               0.09993          0.2955   \n",
       "65             0.34160           0.3024               0.16140          0.3321   \n",
       "427            0.16960           0.1927               0.07485          0.2965   \n",
       "\n",
       "     fractal_dimension_worst  Unnamed: 32  \n",
       "67                   0.06641          NaN  \n",
       "566                  0.07820          NaN  \n",
       "279                  0.06912          NaN  \n",
       "65                   0.08911          NaN  \n",
       "427                  0.07662          NaN  \n",
       "\n",
       "[5 rows x 33 columns]"
      ]
     },
     "execution_count": 11,
     "metadata": {},
     "output_type": "execute_result"
    }
   ],
   "source": [
    "cancer_data.sample(5)"
   ]
  },
  {
   "cell_type": "code",
   "execution_count": 10,
   "metadata": {},
   "outputs": [
    {
     "data": {
      "text/plain": [
       "Index(['radius_mean', 'texture_mean', 'perimeter_mean', 'area_mean',\n",
       "       'smoothness_mean', 'compactness_mean', 'concavity_mean',\n",
       "       'concave points_mean', 'symmetry_mean', 'fractal_dimension_mean',\n",
       "       'radius_se', 'texture_se', 'perimeter_se', 'area_se', 'smoothness_se',\n",
       "       'compactness_se', 'concavity_se', 'concave points_se', 'symmetry_se',\n",
       "       'fractal_dimension_se', 'radius_worst', 'texture_worst',\n",
       "       'perimeter_worst', 'area_worst', 'smoothness_worst',\n",
       "       'compactness_worst', 'concavity_worst', 'concave points_worst',\n",
       "       'symmetry_worst', 'fractal_dimension_worst', 'Unnamed: 32'],\n",
       "      dtype='object')"
      ]
     },
     "execution_count": 10,
     "metadata": {},
     "output_type": "execute_result"
    }
   ],
   "source": [
    "cancer_data.columns[2:]"
   ]
  },
  {
   "cell_type": "markdown",
   "metadata": {},
   "source": [
    "- Attributes\n",
    "- Features\n",
    "- Observation"
   ]
  },
  {
   "cell_type": "markdown",
   "metadata": {},
   "source": [
    "### Supervised Learning Techniques:\n",
    "- Classification\n",
    "- Regression (carbon emission)\n"
   ]
  },
  {
   "cell_type": "markdown",
   "metadata": {},
   "source": [
    "Supervised vs Unsupervised\n",
    "- labeled and unlabeled\n"
   ]
  },
  {
   "cell_type": "markdown",
   "metadata": {},
   "source": [
    "Unsupervised \n",
    "\n",
    "Dimension reduction, density estimation, market basket analysis and clustering are the most widely used unsupervised machine learning techniques."
   ]
  }
 ],
 "metadata": {
  "kernelspec": {
   "display_name": "base",
   "language": "python",
   "name": "python3"
  },
  "language_info": {
   "codemirror_mode": {
    "name": "ipython",
    "version": 3
   },
   "file_extension": ".py",
   "mimetype": "text/x-python",
   "name": "python",
   "nbconvert_exporter": "python",
   "pygments_lexer": "ipython3",
   "version": "3.11.3"
  }
 },
 "nbformat": 4,
 "nbformat_minor": 2
}
