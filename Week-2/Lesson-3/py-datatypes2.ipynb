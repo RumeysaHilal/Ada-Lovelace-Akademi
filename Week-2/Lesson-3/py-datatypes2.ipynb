{
 "cells": [
  {
   "cell_type": "markdown",
   "metadata": {},
   "source": [
    "### Sets"
   ]
  },
  {
   "cell_type": "code",
   "execution_count": null,
   "metadata": {},
   "outputs": [],
   "source": [
    "# sets are mutable \n",
    "# frozensets are immutable\n",
    "\n",
    "# iteration\n",
    "# membership\n",
    "# len()\n",
    "# copy()"
   ]
  },
  {
   "cell_type": "code",
   "execution_count": 1,
   "metadata": {},
   "outputs": [],
   "source": [
    "# sets do not support :\n",
    "# indexing\n",
    "# ordering, sorting\n",
    "# slicing\n",
    "# concat +"
   ]
  },
  {
   "cell_type": "code",
   "execution_count": 2,
   "metadata": {},
   "outputs": [],
   "source": [
    "# In resource consumption, all members consume the same resources"
   ]
  },
  {
   "cell_type": "code",
   "execution_count": 3,
   "metadata": {},
   "outputs": [
    {
     "name": "stdout",
     "output_type": "stream",
     "text": [
      "<class 'set'>\n",
      "{'ada'}\n"
     ]
    }
   ],
   "source": [
    "my_set = {\"ada\"}\n",
    "print(type(my_set))\n",
    "print(my_set)"
   ]
  },
  {
   "cell_type": "code",
   "execution_count": 4,
   "metadata": {},
   "outputs": [
    {
     "name": "stdout",
     "output_type": "stream",
     "text": [
      "{'lovelace', 'ada', 'marry', 'jane'}\n"
     ]
    }
   ],
   "source": [
    "my_set={\"ada\", \"lovelace\", \"marry\", \"jane\"}\n",
    "print(my_set)"
   ]
  },
  {
   "cell_type": "code",
   "execution_count": 5,
   "metadata": {},
   "outputs": [
    {
     "name": "stdout",
     "output_type": "stream",
     "text": [
      "{'black', 'brown', 'yellow'}\n"
     ]
    }
   ],
   "source": [
    "animal_colors = {\n",
    "    \"cat\" :\"yellow\",\n",
    "    \"dog\" : \"black\",\n",
    "    \"horse\" : \"brown\",\n",
    "    \"bear\" : \"brown\"\n",
    "}\n",
    "animal_set = set (animal_colors.values())\n",
    "print(animal_set)"
   ]
  },
  {
   "cell_type": "code",
   "execution_count": 7,
   "metadata": {},
   "outputs": [
    {
     "name": "stdout",
     "output_type": "stream",
     "text": [
      "{9, 225}\n"
     ]
    }
   ],
   "source": [
    "numbers = [ 1, 1, 1, 2, 2, 3, 4, 4, 4, 5, 15]\n",
    "\n",
    "calculated_numbers = {number **2 for number in numbers if number %3 ==0}\n",
    "print(calculated_numbers)"
   ]
  },
  {
   "cell_type": "code",
   "execution_count": 12,
   "metadata": {},
   "outputs": [],
   "source": [
    "def calculated_numbers_list(numbers_list):\n",
    "    square =set()\n",
    "    for number in numbers:\n",
    "       if number % 3 == 0 :\n",
    "           square.add(number ** 2 )\n",
    "    return square"
   ]
  },
  {
   "cell_type": "code",
   "execution_count": 13,
   "metadata": {},
   "outputs": [
    {
     "name": "stdout",
     "output_type": "stream",
     "text": [
      "{9, 225}\n"
     ]
    }
   ],
   "source": [
    "numbers = [ 1, 1, 1, 2, 2, 3, 4, 4, 4, 5, 15]\n",
    "print(calculated_numbers_list(numbers))"
   ]
  },
  {
   "cell_type": "code",
   "execution_count": 14,
   "metadata": {},
   "outputs": [
    {
     "name": "stdout",
     "output_type": "stream",
     "text": [
      "{'a', 'l', 'e', 'c', 'v', 'o'}\n"
     ]
    }
   ],
   "source": [
    "elements_string = set(\"lovelace\")\n",
    "print(elements_string)"
   ]
  }
 ],
 "metadata": {
  "kernelspec": {
   "display_name": "base",
   "language": "python",
   "name": "python3"
  },
  "language_info": {
   "codemirror_mode": {
    "name": "ipython",
    "version": 3
   },
   "file_extension": ".py",
   "mimetype": "text/x-python",
   "name": "python",
   "nbconvert_exporter": "python",
   "pygments_lexer": "ipython3",
   "version": "3.11.3"
  }
 },
 "nbformat": 4,
 "nbformat_minor": 2
}
