{
 "cells": [
  {
   "cell_type": "markdown",
   "metadata": {},
   "source": [
    "### Boolean Operators"
   ]
  },
  {
   "cell_type": "markdown",
   "metadata": {},
   "source": [
    "and, or, not sırası ile bakılır"
   ]
  },
  {
   "cell_type": "code",
   "execution_count": 1,
   "metadata": {},
   "outputs": [
    {
     "data": {
      "text/plain": [
       "False"
      ]
     },
     "execution_count": 1,
     "metadata": {},
     "output_type": "execute_result"
    }
   ],
   "source": [
    "result = 1 and 0\n",
    "bool(result)"
   ]
  },
  {
   "cell_type": "code",
   "execution_count": 2,
   "metadata": {
    "tags": []
   },
   "outputs": [
    {
     "name": "stdout",
     "output_type": "stream",
     "text": [
      "False\n",
      "True\n"
     ]
    }
   ],
   "source": [
    "print(not True and False)\n",
    "print(not(True and False))"
   ]
  },
  {
   "cell_type": "code",
   "execution_count": 4,
   "metadata": {},
   "outputs": [],
   "source": [
    "first_num = 10\n",
    "second_num = 10"
   ]
  },
  {
   "cell_type": "code",
   "execution_count": null,
   "metadata": {},
   "outputs": [],
   "source": [
    "if first_num > second_num :\n",
    "    "
   ]
  },
  {
   "cell_type": "code",
   "execution_count": 5,
   "metadata": {},
   "outputs": [],
   "source": [
    "test_score = 80\n",
    "age = 18\n",
    "\n",
    "# age between 16-18 , score 80 or above, intern-driver\n",
    "# age above 18, score  80 or above, driver\n",
    "# age between 16-18 , score 60-80, supervised-intern-driver\n",
    "# age above 18, score 60-80, supervised-driver\n",
    "\n",
    "\n",
    "def driver_status(age,test_score):\n",
    "    if age < 18 and age > 16:\n",
    "        if test_score >= 80:\n",
    "            return \"Intern-Driver\"\n",
    "        elif test_score > 60 and test_score < 80:\n",
    "            return \"Supervised-Intern-Driver\"\n",
    "        return \"Not Driver\"\n",
    "    elif age>= 18:\n",
    "        if test_score >= 80:\n",
    "            return \"Driver\"\n",
    "        elif test_score > 60 and test_score < 80:\n",
    "            return \"Supervised-Driver\"\n",
    "        return \"Not Driver\"\n",
    "\n",
    "    return \"Not Driver\""
   ]
  },
  {
   "cell_type": "code",
   "execution_count": 9,
   "metadata": {},
   "outputs": [
    {
     "name": "stdout",
     "output_type": "stream",
     "text": [
      "Supervised - Intern - Driver\n"
     ]
    }
   ],
   "source": [
    "candidate = driver_status(17, 70)\n",
    "print(candidate)"
   ]
  },
  {
   "cell_type": "code",
   "execution_count": 8,
   "metadata": {},
   "outputs": [],
   "source": [
    "def driver_status(age,test_score):\n",
    "    if test_score >= 80:\n",
    "        if 18 > age > 16:\n",
    "            return \"Intern - Driver\"\n",
    "        elif age >= 18 :\n",
    "            return \"Driver\"\n",
    "    elif 80 > test_score >= 60:\n",
    "        if 18 > age > 16:\n",
    "            return \"Supervised - Intern - Driver\"\n",
    "        elif age >= 18 :\n",
    "            return \"Supervised - Driver\"\n",
    "    return \"Unlicensed Driver\""
   ]
  },
  {
   "cell_type": "code",
   "execution_count": 10,
   "metadata": {},
   "outputs": [
    {
     "name": "stdout",
     "output_type": "stream",
     "text": [
      "Driver\n"
     ]
    }
   ],
   "source": [
    "candidate2 = driver_status(age, test_score)\n",
    "print(candidate2)"
   ]
  },
  {
   "cell_type": "code",
   "execution_count": 11,
   "metadata": {},
   "outputs": [],
   "source": [
    "def buzz_func(number) :\n",
    "    return \"Buzz!\" if number %2 == 0 else str(number)"
   ]
  },
  {
   "cell_type": "code",
   "execution_count": 13,
   "metadata": {},
   "outputs": [
    {
     "name": "stdout",
     "output_type": "stream",
     "text": [
      "15\n"
     ]
    }
   ],
   "source": [
    "my_number = 15\n",
    "print(buzz_func(my_number))"
   ]
  },
  {
   "cell_type": "markdown",
   "metadata": {},
   "source": [
    "### String Methods"
   ]
  },
  {
   "cell_type": "code",
   "execution_count": 15,
   "metadata": {},
   "outputs": [],
   "source": [
    "test_string = \"Ada Lovelace Academy had started!\""
   ]
  },
  {
   "cell_type": "code",
   "execution_count": 16,
   "metadata": {},
   "outputs": [
    {
     "data": {
      "text/plain": [
       "'ada lovelace academy had started!'"
      ]
     },
     "execution_count": 16,
     "metadata": {},
     "output_type": "execute_result"
    }
   ],
   "source": [
    "test_string.lower()"
   ]
  },
  {
   "cell_type": "code",
   "execution_count": 18,
   "metadata": {},
   "outputs": [
    {
     "data": {
      "text/plain": [
       "'Ada Lovelace Academy had started'"
      ]
     },
     "execution_count": 18,
     "metadata": {},
     "output_type": "execute_result"
    }
   ],
   "source": [
    "test_string.strip(\"!\")\n",
    "test_string.lstrip(\" \")\n",
    "test_string.rstrip(\"!\")"
   ]
  },
  {
   "cell_type": "code",
   "execution_count": 21,
   "metadata": {},
   "outputs": [
    {
     "data": {
      "text/plain": [
       "'Ada Lovelace Academy had started.'"
      ]
     },
     "execution_count": 21,
     "metadata": {},
     "output_type": "execute_result"
    }
   ],
   "source": [
    "test_string.replace(\"!\", \".\")"
   ]
  },
  {
   "cell_type": "code",
   "execution_count": 20,
   "metadata": {},
   "outputs": [
    {
     "data": {
      "text/plain": [
       "True"
      ]
     },
     "execution_count": 20,
     "metadata": {},
     "output_type": "execute_result"
    }
   ],
   "source": [
    "test_string.endswith(\"!\")"
   ]
  },
  {
   "cell_type": "markdown",
   "metadata": {},
   "source": [
    "### Comparions"
   ]
  },
  {
   "cell_type": "code",
   "execution_count": 22,
   "metadata": {},
   "outputs": [
    {
     "data": {
      "text/plain": [
       "True"
      ]
     },
     "execution_count": 22,
     "metadata": {},
     "output_type": "execute_result"
    }
   ],
   "source": [
    "15 != 10"
   ]
  },
  {
   "cell_type": "code",
   "execution_count": 23,
   "metadata": {},
   "outputs": [
    {
     "data": {
      "text/plain": [
       "False"
      ]
     },
     "execution_count": 23,
     "metadata": {},
     "output_type": "execute_result"
    }
   ],
   "source": [
    "\"Ada\" == \"Lovelace\""
   ]
  },
  {
   "cell_type": "code",
   "execution_count": 26,
   "metadata": {},
   "outputs": [
    {
     "name": "stderr",
     "output_type": "stream",
     "text": [
      "<>:1: SyntaxWarning: \"is\" with a literal. Did you mean \"==\"?\n",
      "<>:1: SyntaxWarning: \"is\" with a literal. Did you mean \"==\"?\n",
      "C:\\Users\\Excalibur\\AppData\\Local\\Temp\\ipykernel_8276\\1797256117.py:1: SyntaxWarning: \"is\" with a literal. Did you mean \"==\"?\n",
      "  15 is my_number\n"
     ]
    },
    {
     "data": {
      "text/plain": [
       "True"
      ]
     },
     "execution_count": 26,
     "metadata": {},
     "output_type": "execute_result"
    }
   ],
   "source": [
    "15 is my_number"
   ]
  },
  {
   "cell_type": "code",
   "execution_count": 27,
   "metadata": {},
   "outputs": [
    {
     "name": "stdout",
     "output_type": "stream",
     "text": [
      "True\n",
      "False\n"
     ]
    }
   ],
   "source": [
    "my_list = [1, 2, 3]\n",
    "print(3 in my_list)\n",
    "print(1 not in my_list)"
   ]
  },
  {
   "cell_type": "markdown",
   "metadata": {},
   "source": [
    "### List"
   ]
  },
  {
   "cell_type": "code",
   "execution_count": 29,
   "metadata": {},
   "outputs": [
    {
     "name": "stdout",
     "output_type": "stream",
     "text": [
      "[]\n"
     ]
    }
   ],
   "source": [
    "empty_list = []\n",
    "print(empty_list)"
   ]
  },
  {
   "cell_type": "code",
   "execution_count": 31,
   "metadata": {},
   "outputs": [
    {
     "name": "stdout",
     "output_type": "stream",
     "text": [
      "[1, 'string', [1, 2, 3]]\n"
     ]
    }
   ],
   "source": [
    "example_list = [1, \"string\", [1, 2, 3]]\n",
    "print(example_list)"
   ]
  },
  {
   "cell_type": "code",
   "execution_count": 32,
   "metadata": {},
   "outputs": [
    {
     "name": "stdout",
     "output_type": "stream",
     "text": [
      "[]\n"
     ]
    }
   ],
   "source": [
    "test_list = list()\n",
    "print(test_list)"
   ]
  },
  {
   "cell_type": "code",
   "execution_count": 34,
   "metadata": {},
   "outputs": [
    {
     "name": "stdout",
     "output_type": "stream",
     "text": [
      "[1, 'string', [1, 2, 3]]\n"
     ]
    }
   ],
   "source": [
    "example_list = [1, \"string\", [1, 2, 3]]\n",
    "print(example_list)"
   ]
  },
  {
   "cell_type": "code",
   "execution_count": 35,
   "metadata": {},
   "outputs": [
    {
     "name": "stdout",
     "output_type": "stream",
     "text": [
      "[]\n"
     ]
    }
   ],
   "source": [
    "test_list = list()\n",
    "print(test_list)"
   ]
  },
  {
   "cell_type": "code",
   "execution_count": 36,
   "metadata": {},
   "outputs": [
    {
     "name": "stdout",
     "output_type": "stream",
     "text": [
      "['s', 't', 'r', 'i', 'n', 'g']\n",
      "['string']\n"
     ]
    }
   ],
   "source": [
    "example_list = list(\"string\")\n",
    "literal_list = [\"string\"]\n",
    "print(example_list)\n",
    "print(literal_list)"
   ]
  },
  {
   "cell_type": "code",
   "execution_count": 41,
   "metadata": {},
   "outputs": [],
   "source": [
    "example_list = [1, \"academy\", [1, 2, 3]]"
   ]
  },
  {
   "cell_type": "code",
   "execution_count": 42,
   "metadata": {},
   "outputs": [
    {
     "data": {
      "text/plain": [
       "[1, 2, 3]"
      ]
     },
     "execution_count": 42,
     "metadata": {},
     "output_type": "execute_result"
    }
   ],
   "source": [
    "example_list[-1]"
   ]
  },
  {
   "cell_type": "code",
   "execution_count": 43,
   "metadata": {},
   "outputs": [
    {
     "data": {
      "text/plain": [
       "[1, 'academy']"
      ]
     },
     "execution_count": 43,
     "metadata": {},
     "output_type": "execute_result"
    }
   ],
   "source": [
    "example_list[:2]"
   ]
  },
  {
   "cell_type": "code",
   "execution_count": 45,
   "metadata": {},
   "outputs": [
    {
     "name": "stdout",
     "output_type": "stream",
     "text": [
      "black\n",
      "red\n",
      "green\n",
      "purple\n",
      "brown\n",
      "blue\n"
     ]
    }
   ],
   "source": [
    "colors = [\"black\", \"red\", \"green\", \"purple\", \"brown\", \"blue\", ]\n",
    "\n",
    "for color in colors:\n",
    "    print(color)"
   ]
  },
  {
   "cell_type": "code",
   "execution_count": 46,
   "metadata": {},
   "outputs": [
    {
     "name": "stdout",
     "output_type": "stream",
     "text": [
      "0 : black\n",
      "1 : red\n",
      "2 : green\n",
      "3 : purple\n",
      "4 : brown\n",
      "5 : blue\n"
     ]
    }
   ],
   "source": [
    "for index, color in enumerate(colors):\n",
    "    print(f\"{index} : {color}\")"
   ]
  },
  {
   "cell_type": "code",
   "execution_count": 49,
   "metadata": {},
   "outputs": [
    {
     "name": "stdout",
     "output_type": "stream",
     "text": [
      "[1, 8, 27, 64, 125, 216, 343, 512, 729, 1000]\n"
     ]
    }
   ],
   "source": [
    "cubes_to_1000 = []\n",
    "\n",
    "for i in range(1,11):\n",
    "    cubes_to_1000.append(i**3)\n",
    "\n",
    "print(cubes_to_1000)"
   ]
  },
  {
   "cell_type": "code",
   "execution_count": 57,
   "metadata": {},
   "outputs": [
    {
     "name": "stdout",
     "output_type": "stream",
     "text": [
      "['black', 'red', 'green', 'purple', 'brown', 'blue', 'orange', 'orange', 'orange', 'orange']\n"
     ]
    }
   ],
   "source": [
    "print(colors)"
   ]
  },
  {
   "cell_type": "code",
   "execution_count": 66,
   "metadata": {},
   "outputs": [
    {
     "name": "stdout",
     "output_type": "stream",
     "text": [
      "['black', 'red', 'green', 'purple', 'brown', 'blue', 'orange']\n"
     ]
    }
   ],
   "source": [
    "new_colors = colors\n",
    "print(new_colors)"
   ]
  },
  {
   "cell_type": "code",
   "execution_count": 65,
   "metadata": {},
   "outputs": [
    {
     "name": "stdout",
     "output_type": "stream",
     "text": [
      "['black', 'red', 'green', 'purple', 'brown', 'blue', 'orange']\n",
      "['black', 'red', 'green', 'purple', 'brown', 'blue', 'orange']\n"
     ]
    }
   ],
   "source": [
    "new_colors.append(\"orange\")\n",
    "print(new_colors)\n",
    "print(colors)"
   ]
  },
  {
   "cell_type": "code",
   "execution_count": 67,
   "metadata": {},
   "outputs": [
    {
     "data": {
      "text/plain": [
       "'orange'"
      ]
     },
     "execution_count": 67,
     "metadata": {},
     "output_type": "execute_result"
    }
   ],
   "source": [
    "colors.pop()"
   ]
  },
  {
   "cell_type": "code",
   "execution_count": 70,
   "metadata": {},
   "outputs": [
    {
     "name": "stdout",
     "output_type": "stream",
     "text": [
      "['black', 'red', 'green', 'purple', 'brown', 'blue']\n"
     ]
    }
   ],
   "source": [
    "newest_colors = colors.copy()\n",
    "print(new_colors)\n",
    "newest_colors.append(\"pink\") "
   ]
  },
  {
   "cell_type": "code",
   "execution_count": 71,
   "metadata": {},
   "outputs": [
    {
     "name": "stdout",
     "output_type": "stream",
     "text": [
      "['black', 'red', 'green', 'purple', 'brown', 'blue', 'pink']\n",
      "['black', 'red', 'green', 'purple', 'brown', 'blue']\n"
     ]
    }
   ],
   "source": [
    "print(newest_colors)\n",
    "print(colors)"
   ]
  },
  {
   "cell_type": "code",
   "execution_count": 72,
   "metadata": {},
   "outputs": [],
   "source": [
    "newest_colors.insert(0, \"yellow\")"
   ]
  },
  {
   "cell_type": "code",
   "execution_count": 74,
   "metadata": {},
   "outputs": [
    {
     "name": "stdout",
     "output_type": "stream",
     "text": [
      "['yellow', 'black', 'red', 'green', 'purple', 'brown', 'blue', 'pink']\n"
     ]
    }
   ],
   "source": [
    "print(newest_colors)"
   ]
  },
  {
   "cell_type": "code",
   "execution_count": 75,
   "metadata": {},
   "outputs": [],
   "source": [
    "# extend, add two list together"
   ]
  },
  {
   "cell_type": "code",
   "execution_count": 76,
   "metadata": {},
   "outputs": [],
   "source": [
    "newest_colors.remove('yellow')"
   ]
  },
  {
   "cell_type": "code",
   "execution_count": 77,
   "metadata": {},
   "outputs": [
    {
     "data": {
      "text/plain": [
       "['black', 'red', 'green', 'purple', 'brown', 'blue', 'pink']"
      ]
     },
     "execution_count": 77,
     "metadata": {},
     "output_type": "execute_result"
    }
   ],
   "source": [
    "newest_colors"
   ]
  },
  {
   "cell_type": "code",
   "execution_count": 79,
   "metadata": {},
   "outputs": [],
   "source": [
    "# reverse "
   ]
  },
  {
   "cell_type": "code",
   "execution_count": 86,
   "metadata": {},
   "outputs": [
    {
     "data": {
      "text/plain": [
       "['black', 'blue', 'brown', 'green', 'pink', 'purple', 'red']"
      ]
     },
     "execution_count": 86,
     "metadata": {},
     "output_type": "execute_result"
    }
   ],
   "source": [
    "newest_colors.sort()\n",
    "newest_colors"
   ]
  },
  {
   "cell_type": "markdown",
   "metadata": {},
   "source": [
    "### Tuples"
   ]
  },
  {
   "cell_type": "code",
   "execution_count": 88,
   "metadata": {},
   "outputs": [
    {
     "name": "stdout",
     "output_type": "stream",
     "text": [
      "(10,)\n"
     ]
    }
   ],
   "source": [
    "my_tuple = tuple()\n",
    "my_tuple = tuple([10])\n",
    "print(my_tuple)"
   ]
  },
  {
   "cell_type": "code",
   "execution_count": 90,
   "metadata": {},
   "outputs": [
    {
     "name": "stdout",
     "output_type": "stream",
     "text": [
      "('L', 'o', 'v', 'e', 'l', 'a', 'c', 'e')\n"
     ]
    }
   ],
   "source": [
    "my_tuple = tuple(\"Lovelace\")\n",
    "print(my_tuple)"
   ]
  },
  {
   "cell_type": "code",
   "execution_count": 91,
   "metadata": {},
   "outputs": [
    {
     "name": "stdout",
     "output_type": "stream",
     "text": [
      "(10, 'Ada', 'Lovelace', 11)\n"
     ]
    }
   ],
   "source": [
    "my_tuple = tuple([10,\"Ada\", \"Lovelace\", 11])\n",
    "print(my_tuple)"
   ]
  },
  {
   "cell_type": "code",
   "execution_count": 113,
   "metadata": {},
   "outputs": [],
   "source": [
    "#dictionary\n",
    "animal_colors = {\n",
    "    \"cat\" :\"yellow\",\n",
    "    \"dog\" : \"black\",\n",
    "    \"horse\" : \"brown\"\n",
    "}"
   ]
  },
  {
   "cell_type": "code",
   "execution_count": 95,
   "metadata": {},
   "outputs": [
    {
     "name": "stdout",
     "output_type": "stream",
     "text": [
      "('cat', 'dog', 'horse')\n"
     ]
    }
   ],
   "source": [
    "animal_colors_tuple = tuple(animal_colors)\n",
    "print(animal_colors_tuple)"
   ]
  },
  {
   "cell_type": "code",
   "execution_count": 96,
   "metadata": {},
   "outputs": [
    {
     "name": "stdout",
     "output_type": "stream",
     "text": [
      "(('cat', 'yellow'), ('dog', 'black'), ('horse', 'brown'))\n"
     ]
    }
   ],
   "source": [
    "animal_colors_tuple2 = tuple(animal_colors.items())\n",
    "print(animal_colors_tuple2)"
   ]
  },
  {
   "cell_type": "code",
   "execution_count": 97,
   "metadata": {},
   "outputs": [],
   "source": [
    "my_new_tuple = (\"ada\",)\n",
    "print(my_new_tuple)"
   ]
  },
  {
   "cell_type": "code",
   "execution_count": 99,
   "metadata": {},
   "outputs": [
    {
     "name": "stdout",
     "output_type": "stream",
     "text": [
      "<class 'tuple'>\n"
     ]
    }
   ],
   "source": [
    "new_tuple = \"ada\", \"lovelace\"\n",
    "print(type(new_tuple))"
   ]
  },
  {
   "cell_type": "code",
   "execution_count": 106,
   "metadata": {},
   "outputs": [],
   "source": [
    "#dictionary\n",
    "animals= {\n",
    "    \"cat\" :{\n",
    "        \"color\" : \"yellow\",\n",
    "        \"weight\" : 5.1\n",
    "    }, \n",
    "    \"dog\" : \"black\",\n",
    "    \"horse\" : \"brown\"\n",
    "}"
   ]
  },
  {
   "cell_type": "code",
   "execution_count": 107,
   "metadata": {},
   "outputs": [
    {
     "data": {
      "text/plain": [
       "'yellow'"
      ]
     },
     "execution_count": 107,
     "metadata": {},
     "output_type": "execute_result"
    }
   ],
   "source": [
    "animals[\"cat\"][\"color\"]"
   ]
  },
  {
   "cell_type": "code",
   "execution_count": 108,
   "metadata": {},
   "outputs": [],
   "source": [
    "animals.get(\"bear\")"
   ]
  },
  {
   "cell_type": "code",
   "execution_count": 110,
   "metadata": {},
   "outputs": [
    {
     "data": {
      "text/plain": [
       "{'cat': {'color': 'yellow', 'weight': 5.1},\n",
       " 'dog': 'black',\n",
       " 'horse': 'brown',\n",
       " 'bear': 'brown'}"
      ]
     },
     "execution_count": 110,
     "metadata": {},
     "output_type": "execute_result"
    }
   ],
   "source": [
    "animals[\"bear\"] = \"brown\"\n",
    "animals"
   ]
  },
  {
   "cell_type": "code",
   "execution_count": 111,
   "metadata": {},
   "outputs": [
    {
     "data": {
      "text/plain": [
       "'brown'"
      ]
     },
     "execution_count": 111,
     "metadata": {},
     "output_type": "execute_result"
    }
   ],
   "source": [
    "animals.pop(\"bear\")"
   ]
  },
  {
   "cell_type": "code",
   "execution_count": 114,
   "metadata": {},
   "outputs": [],
   "source": [
    "# del\n",
    "animal_colors = {\n",
    "    \"cat\" :\"yellow\",\n",
    "    \"dog\" : \"black\",\n",
    "    \"horse\" : \"brown\"\n",
    "}"
   ]
  },
  {
   "cell_type": "code",
   "execution_count": 115,
   "metadata": {},
   "outputs": [
    {
     "name": "stdout",
     "output_type": "stream",
     "text": [
      "cat is yellow\n",
      "dog is black\n",
      "horse is brown\n"
     ]
    }
   ],
   "source": [
    "for animal, color in animal_colors.items():\n",
    "    print(f\"{animal} is {color}\")"
   ]
  }
 ],
 "metadata": {
  "kernelspec": {
   "display_name": "base",
   "language": "python",
   "name": "python3"
  },
  "language_info": {
   "codemirror_mode": {
    "name": "ipython",
    "version": 3
   },
   "file_extension": ".py",
   "mimetype": "text/x-python",
   "name": "python",
   "nbconvert_exporter": "python",
   "pygments_lexer": "ipython3",
   "version": "3.11.3"
  }
 },
 "nbformat": 4,
 "nbformat_minor": 2
}
